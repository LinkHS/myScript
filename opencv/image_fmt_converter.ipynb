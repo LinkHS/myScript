{
 "cells": [
  {
   "cell_type": "code",
   "execution_count": 1,
   "metadata": {},
   "outputs": [],
   "source": [
    "import cv2\n",
    "import numpy as np\n"
   ]
  },
  {
   "cell_type": "code",
   "execution_count": 2,
   "metadata": {},
   "outputs": [
    {
     "data": {
      "text/plain": [
       "(360, 480, 3)"
      ]
     },
     "execution_count": 2,
     "metadata": {},
     "output_type": "execute_result"
    }
   ],
   "source": [
    "image_BGR = cv2.imread('../data/cat.jpg')\n",
    "rows, cols, c = image_BGR.shape\n",
    "rows, cols, c"
   ]
  },
  {
   "cell_type": "code",
   "execution_count": 3,
   "metadata": {},
   "outputs": [],
   "source": [
    "def convert_from_BGR(img_BGR, dst_fmt:str):\n",
    "    \"\"\"\n",
    "      @img_BGR: the result of cv2.imread(file_name)\n",
    "\n",
    "    Referecens:\n",
    "      1. https://paaatrick.com/2020-01-26-yuv-pixel-formats/\n",
    "      2. https://blog.csdn.net/mydear_11000/article/details/50404084\n",
    "      3. https://www.fourcc.org/yuv.php\n",
    "    \"\"\"\n",
    "    rows, cols, c = img_BGR.shape\n",
    "    assert (c == 3) and (img_BGR.dtype == np.uint8)\n",
    "    if dst_fmt == 'RGB':\n",
    "        return cv2.cvtColor(image_BGR, cv2.COLOR_BGR2RGB)\n",
    "    elif dst_fmt == 'YUV444':\n",
    "        \"\"\"\n",
    "        Y0 Y1 Y2 Y3 ......     shape: [rows, cols]\n",
    "        ......\n",
    "        U0 U1 U2 V3 ......     shape: [rows, cols]\n",
    "        ......\n",
    "        V0 V1 V2 V3 ......     shape: [rows, cols]\n",
    "        ......\n",
    "        \"\"\"\n",
    "        YUV444 = cv2.cvtColor(image_BGR, cv2.COLOR_BGR2YUV)\n",
    "        y, u, v = YUV444[:, :, 0], YUV444[:, :, 1], YUV444[:, :, 2]\n",
    "        return np.vstack((y, u, v))\n",
    "    elif dst_fmt in ['YUV420P', 'YU12', 'IYUV']:\n",
    "        \"\"\"\n",
    "        Y0 Y1 Y2 Y3 ......     shape: [rows, cols]\n",
    "        ......\n",
    "        U0 U1 U2 V3 ......     shape: [rows//4, cols]\n",
    "        ......\n",
    "        V0 V1 V2 V3 ......     shape: [rows//4, cols]\n",
    "        ......\n",
    "        \"\"\"\n",
    "        return cv2.cvtColor(image_BGR, cv2.COLOR_BGR2YUV_I420)\n",
    "    elif dst_fmt == 'YV12':\n",
    "        \"\"\"\n",
    "        Y0 Y1 Y2 Y3 ......     shape: [rows, cols]\n",
    "        ......\n",
    "        V1 V1 V2 V3 ......     shape: [rows//4, cols]\n",
    "        ......\n",
    "        U0 U1 U2 V3 ......     shape: [rows//4, cols]\n",
    "        ......\n",
    "        \"\"\"\n",
    "        return cv2.cvtColor(image_BGR, cv2.COLOR_BGR2YUV_YV12)\n",
    "    elif dst_fmt in ['YUV420SP', 'NV12']:\n",
    "        \"\"\"\n",
    "        Y0 Y1 Y2 Y3 ......     shape: [rows, cols]\n",
    "        ......\n",
    "        U0 V0 U1 V1 ......     shape: [rows//2, cols]\n",
    "        ......\n",
    "        \"\"\"\n",
    "        YUV420P = cv2.cvtColor(image_BGR, cv2.COLOR_BGR2YUV_I420)\n",
    "        y, u, v = YUV420P[0:rows], YUV420P[rows:-rows//4], YUV420P[-rows//4:]\n",
    "        uv = np.zeros(shape=[rows//2, cols])\n",
    "        uv[:, 0::2] = u.reshape(rows//2, -1)\n",
    "        uv[:, 1::2] = v.reshape(rows//2, -1)\n",
    "        return np.vstack((y, uv))\n",
    "    elif dst_fmt == 'YUV422SP':\n",
    "        \"\"\"\n",
    "        Y0 Y1 Y2 Y3 ......     shape: [rows, cols]\n",
    "        ......\n",
    "        U0 V0 U1 V1 ......     shape: [rows, cols]\n",
    "        ......\n",
    "        \"\"\"\n",
    "        YUV = cv2.cvtColor(image_BGR, cv2.COLOR_BGR2YUV)\n",
    "        y, u, v = YUV[:, :, 0], YUV[:, :, 1], YUV[:, :, 2]\n",
    "        u = cv2.resize(u, (cols//2, rows), interpolation=cv2.INTER_LINEAR)\n",
    "        v = cv2.resize(v, (cols//2, rows), interpolation=cv2.INTER_LINEAR)\n",
    "\n",
    "        # Convert u and v to uint8 with clipping and rounding:\n",
    "        u = np.round(np.clip(u, 0, 255)).astype(np.uint8)\n",
    "        v = np.round(np.clip(v, 0, 255)).astype(np.uint8)\n",
    "\n",
    "        # Interleave u and v:\n",
    "        uv = np.zeros_like(y)\n",
    "        uv[:, 0::2] = u\n",
    "        uv[:, 1::2] = v\n",
    "        return cv2.merge((y, uv))\n",
    "    elif dst_fmt == 'YUV422SP_v2':\n",
    "        YUV = cv2.cvtColor(image_BGR, cv2.COLOR_BGR2YUV)\n",
    "        y, u, v = YUV[:, :, 0], YUV[:, :, 1], YUV[:, :, 2]\n",
    "\n",
    "        uv = np.zeros_like(y)\n",
    "        uv[:, 0::2] = u[:, 0::2]\n",
    "        uv[:, 1::2] = v[:, 0::2]\n",
    "        return np.vstack((y, uv))"
   ]
  },
  {
   "cell_type": "code",
   "execution_count": 4,
   "metadata": {},
   "outputs": [],
   "source": [
    "def save_as_hex(file_name, image):\n",
    "    \"\"\"\n",
    "      @image: astype(np.uint8)\n",
    "    \"\"\"\n",
    "    text_file = open(file_name, \"w\")\n",
    "    n = text_file.write(image.reshape(-1).tobytes().hex().upper())\n",
    "    text_file.close()"
   ]
  },
  {
   "cell_type": "code",
   "execution_count": 9,
   "metadata": {},
   "outputs": [],
   "source": [
    "image_YUV = convert_from_BGR(image_BGR, 'YUV420SP')\n",
    "save_as_hex('cat_YUV444.txt', image_YUV)"
   ]
  }
 ],
 "metadata": {
  "interpreter": {
   "hash": "4a3057a8c36782cd4f6331a3ae51fc068edd966d636a8a359d99ae7e41376aa0"
  },
  "kernelspec": {
   "display_name": "Python 3.8.12 ('base_3.8')",
   "language": "python",
   "name": "python3"
  },
  "language_info": {
   "codemirror_mode": {
    "name": "ipython",
    "version": 3
   },
   "file_extension": ".py",
   "mimetype": "text/x-python",
   "name": "python",
   "nbconvert_exporter": "python",
   "pygments_lexer": "ipython3",
   "version": "3.8.12"
  },
  "orig_nbformat": 4
 },
 "nbformat": 4,
 "nbformat_minor": 2
}
