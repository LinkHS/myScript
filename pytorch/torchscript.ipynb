{
 "cells": [
  {
   "cell_type": "code",
   "execution_count": 30,
   "metadata": {},
   "outputs": [],
   "source": [
    "import torch\n",
    "import torchvision\n",
    "\n",
    "class MyScriptModule(torch.nn.Module):\n",
    "    def __init__(self):\n",
    "        super(MyScriptModule, self).__init__()\n",
    "        self.means = torch.nn.Parameter(torch.tensor([103.939, 116.779, 123.68])\n",
    "                                        .resize_(1, 3, 1, 1))\n",
    "        self.resnet = torch.jit.trace(torchvision.models.resnet18(num_classes=10),\n",
    "                                      torch.rand(1, 3, 224, 224))\n",
    "\n",
    "    def forward(self, input):\n",
    "        return self.resnet(input - self.means)\n",
    "\n",
    "my_script_module = torch.jit.script(MyScriptModule())\n"
   ]
  },
  {
   "cell_type": "code",
   "execution_count": 33,
   "metadata": {},
   "outputs": [
    {
     "data": {
      "text/plain": [
       "torch.Size([1, 10])"
      ]
     },
     "execution_count": 33,
     "metadata": {},
     "output_type": "execute_result"
    }
   ],
   "source": [
    "input = torch.rand(1, 3, 100, 100)\n",
    "output = my_script_module(input)\n",
    "output.shape"
   ]
  },
  {
   "cell_type": "code",
   "execution_count": 80,
   "metadata": {},
   "outputs": [
    {
     "name": "stdout",
     "output_type": "stream",
     "text": [
      "def foo(len: int) -> Tensor:\n",
      "  rv = torch.zeros([3, 4])\n",
      "  rv0 = rv\n",
      "  for i in range(len):\n",
      "    if torch.lt(i, 10):\n",
      "      rv1 = torch.sub(rv0, 1.)\n",
      "    else:\n",
      "      rv1 = torch.add(rv0, 1.)\n",
      "    rv0 = rv1\n",
      "  return rv0\n",
      "\n"
     ]
    }
   ],
   "source": [
    "@torch.jit.script\n",
    "def foo(len):\n",
    "    # type: (int) -> torch.Tensor\n",
    "    rv = torch.zeros(3, 4)\n",
    "    for i in range(len):\n",
    "        if i < 10:\n",
    "            rv = rv - 1.0\n",
    "        else:\n",
    "            rv = rv + 1.0\n",
    "    return rv\n",
    "\n",
    "print(foo.code)"
   ]
  },
  {
   "cell_type": "code",
   "execution_count": 81,
   "metadata": {},
   "outputs": [
    {
     "name": "stdout",
     "output_type": "stream",
     "text": [
      "graph(%len.1 : int):\n",
      "  %21 : int = prim::Constant[value=1]()\n",
      "  %13 : bool = prim::Constant[value=1]() # /tmp/ipykernel_39804/1503696268.py:5:4\n",
      "  %5 : NoneType = prim::Constant()\n",
      "  %1 : int = prim::Constant[value=3]() # /tmp/ipykernel_39804/1503696268.py:4:21\n",
      "  %2 : int = prim::Constant[value=4]() # /tmp/ipykernel_39804/1503696268.py:4:24\n",
      "  %16 : int = prim::Constant[value=10]() # /tmp/ipykernel_39804/1503696268.py:6:15\n",
      "  %20 : float = prim::Constant[value=1.]() # /tmp/ipykernel_39804/1503696268.py:7:22\n",
      "  %4 : int[] = prim::ListConstruct(%1, %2)\n",
      "  %rv.1 : Tensor = aten::zeros(%4, %5, %5, %5, %5) # /tmp/ipykernel_39804/1503696268.py:4:9\n",
      "  %rv : Tensor = prim::Loop(%len.1, %13, %rv.1) # /tmp/ipykernel_39804/1503696268.py:5:4\n",
      "    block0(%i.1 : int, %rv.29 : Tensor):\n",
      "      %17 : bool = aten::lt(%i.1, %16) # /tmp/ipykernel_39804/1503696268.py:6:11\n",
      "      %rv.27 : Tensor = prim::If(%17) # /tmp/ipykernel_39804/1503696268.py:6:8\n",
      "        block0():\n",
      "          %rv.5 : Tensor = aten::sub(%rv.29, %20, %21) # /tmp/ipykernel_39804/1503696268.py:7:17\n",
      "          -> (%rv.5)\n",
      "        block1():\n",
      "          %rv.11 : Tensor = aten::add(%rv.29, %20, %21) # /tmp/ipykernel_39804/1503696268.py:9:17\n",
      "          -> (%rv.11)\n",
      "      -> (%13, %rv.27)\n",
      "  return (%rv)\n",
      "\n"
     ]
    }
   ],
   "source": [
    "print(foo.graph)"
   ]
  }
 ],
 "metadata": {
  "interpreter": {
   "hash": "5d77f13afa90975a0006858db988e82dc75484a4b1caaf9acd21bfd54c7be743"
  },
  "kernelspec": {
   "display_name": "Python 3.9.5 64-bit ('base': conda)",
   "language": "python",
   "name": "python3"
  },
  "language_info": {
   "codemirror_mode": {
    "name": "ipython",
    "version": 3
   },
   "file_extension": ".py",
   "mimetype": "text/x-python",
   "name": "python",
   "nbconvert_exporter": "python",
   "pygments_lexer": "ipython3",
   "version": "3.9.5"
  },
  "orig_nbformat": 4
 },
 "nbformat": 4,
 "nbformat_minor": 2
}
