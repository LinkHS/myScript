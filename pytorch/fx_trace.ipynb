{
 "cells": [
  {
   "cell_type": "code",
   "execution_count": 1,
   "metadata": {},
   "outputs": [
    {
     "name": "stderr",
     "output_type": "stream",
     "text": [
      "/home/austin/miniconda3/envs/base_3.8/lib/python3.8/site-packages/torch/ao/quantization/observer.py:172: UserWarning: Please use quant_min and quant_max to specify the range for observers.                     reduce_range will be deprecated in a future release of PyTorch.\n",
      "  warnings.warn(\n"
     ]
    }
   ],
   "source": [
    "from torchvision.models.quantization import resnet18\n",
    "qmodel = resnet18(pretrained=True, quantize=True).eval()"
   ]
  },
  {
   "cell_type": "code",
   "execution_count": 2,
   "metadata": {},
   "outputs": [],
   "source": [
    "from torch.fx import symbolic_trace\n",
    "\n",
    "traced = symbolic_trace(qmodel.layer1)\n",
    "# traced.graph.print_tabular()"
   ]
  },
  {
   "cell_type": "code",
   "execution_count": 3,
   "metadata": {},
   "outputs": [
    {
     "name": "stdout",
     "output_type": "stream",
     "text": [
      "ConvReLU2d (input_1,) {}\n",
      "Identity (_0_conv1,) {}\n",
      "Identity (_0_bn1,) {}\n",
      "Conv2d (_0_relu,) {}\n",
      "Identity (_0_conv2,) {}\n",
      "Identity (add_relu,) {}\n",
      "ConvReLU2d (_0_add_relu_activation_post_process,) {}\n",
      "Identity (_1_conv1,) {}\n",
      "Identity (_1_bn1,) {}\n",
      "Conv2d (_1_relu,) {}\n",
      "Identity (_1_conv2,) {}\n",
      "Identity (add_relu_1,) {}\n"
     ]
    }
   ],
   "source": [
    "_mod = dict(traced.named_modules())\n",
    "for idx, node in enumerate(traced.graph.nodes):\n",
    "    in_nodes, args, kwargs = [], [], {}\n",
    "    # n.op, n.name, n.target, n.args, n.kwargs\n",
    "    # print(node.op, node.name, node.target, type(node.target))\n",
    "    if node.op == 'placeholder':\n",
    "        pass\n",
    "    elif node.op == 'get_attr':\n",
    "        pass\n",
    "    elif node.op == 'call_function':\n",
    "        pass\n",
    "    elif node.op == 'call_method':\n",
    "        pass\n",
    "    elif node.op == 'call_module':\n",
    "        op_name = _mod[node.target].__class__.__name__\n",
    "        print(op_name, node.args, node.kwargs)"
   ]
  }
 ],
 "metadata": {
  "interpreter": {
   "hash": "4a3057a8c36782cd4f6331a3ae51fc068edd966d636a8a359d99ae7e41376aa0"
  },
  "kernelspec": {
   "display_name": "Python 3.8.12 ('base_3.8')",
   "language": "python",
   "name": "python3"
  },
  "language_info": {
   "codemirror_mode": {
    "name": "ipython",
    "version": 3
   },
   "file_extension": ".py",
   "mimetype": "text/x-python",
   "name": "python",
   "nbconvert_exporter": "python",
   "pygments_lexer": "ipython3",
   "version": "3.8.12"
  },
  "orig_nbformat": 4
 },
 "nbformat": 4,
 "nbformat_minor": 2
}
