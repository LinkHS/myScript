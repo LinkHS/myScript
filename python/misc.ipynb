{
 "cells": [
  {
   "cell_type": "markdown",
   "metadata": {},
   "source": [
    "### tabulate表格"
   ]
  },
  {
   "cell_type": "code",
   "execution_count": 4,
   "metadata": {},
   "outputs": [
    {
     "name": "stdout",
     "output_type": "stream",
     "text": [
      "name      ags  args    kwargs\n",
      "------  -----  ------  ----------------\n",
      "Marry      24  Man     {}\n",
      "David      12  ()      {'Wife': 'Ting'}\n"
     ]
    }
   ],
   "source": [
    "from tabulate import tabulate\n",
    "node_specs = [\n",
    "    ['Marry', 24, ('Man'), {}],\n",
    "    ['David', 12, (), {'Wife': 'Ting'}]\n",
    "]\n",
    "print(tabulate(node_specs, headers=['name', 'ags', 'args', 'kwargs']))\n"
   ]
  }
 ],
 "metadata": {
  "interpreter": {
   "hash": "4a3057a8c36782cd4f6331a3ae51fc068edd966d636a8a359d99ae7e41376aa0"
  },
  "kernelspec": {
   "display_name": "Python 3.8.12 ('base_3.8')",
   "language": "python",
   "name": "python3"
  },
  "language_info": {
   "codemirror_mode": {
    "name": "ipython",
    "version": 3
   },
   "file_extension": ".py",
   "mimetype": "text/x-python",
   "name": "python",
   "nbconvert_exporter": "python",
   "pygments_lexer": "ipython3",
   "version": "3.8.12"
  },
  "orig_nbformat": 4
 },
 "nbformat": 4,
 "nbformat_minor": 2
}
