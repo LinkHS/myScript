{
 "cells": [
  {
   "cell_type": "code",
   "execution_count": 1,
   "metadata": {},
   "outputs": [],
   "source": [
    "import torch"
   ]
  },
  {
   "cell_type": "markdown",
   "metadata": {},
   "source": [
    "## Fuse SiLU"
   ]
  },
  {
   "cell_type": "code",
   "execution_count": 2,
   "metadata": {},
   "outputs": [],
   "source": [
    "from torch.nn import functional as F\n",
    "\n",
    "class M(torch.nn.Module):\n",
    "    def forward(self, x):\n",
    "        x = x * torch.sigmoid(x)\n",
    "        x = 1 + x\n",
    "        return F.silu(x) + x\n",
    "\n",
    "x = torch.randn(3, 3)\n",
    "model = M()"
   ]
  },
  {
   "cell_type": "code",
   "execution_count": 3,
   "metadata": {},
   "outputs": [
    {
     "data": {
      "text/plain": [
       "fn (%x: Tensor[(3, 3), float32]) {\n",
       "  %0 = sigmoid(%x);\n",
       "  %1 = multiply(%x, %0);\n",
       "  %2 = add(%1, 1f);\n",
       "  %3 = sigmoid(%2);\n",
       "  %4 = multiply(%2, %3);\n",
       "  add(%4, %2)\n",
       "}"
      ]
     },
     "execution_count": 3,
     "metadata": {},
     "output_type": "execute_result"
    }
   ],
   "source": [
    "from tvm import relay\n",
    "\n",
    "with torch.no_grad():\n",
    "    scripted_model = torch.jit.trace(model, x).eval()\n",
    "\n",
    "mod, params = relay.frontend.from_pytorch(scripted_model, [('x', x.shape)])\n",
    "mod['main']"
   ]
  },
  {
   "cell_type": "markdown",
   "metadata": {},
   "source": [
    "上述tvm relay图包含了两次\"sigmoid + multiply\"操作（以add为分界线），其中一次是由于`F.silu()`被拆分了。\n",
    "\n",
    "由于tvm当前版本不支持`silu`算子，于是通过定义pattern将\"sigmoid + multiply\"合并为`nn.relu`："
   ]
  },
  {
   "cell_type": "code",
   "execution_count": 4,
   "metadata": {},
   "outputs": [
    {
     "data": {
      "text/plain": [
       "fn (%x: Tensor[(3, 3), float32]) {\n",
       "  %0 = nn.relu(%x);\n",
       "  %1 = add(%0, 1f);\n",
       "  %2 = nn.relu(%1);\n",
       "  add(%2, %1)\n",
       "}"
      ]
     },
     "execution_count": 4,
     "metadata": {},
     "output_type": "execute_result"
    }
   ],
   "source": [
    "from tvm.relay.dataflow_pattern import DFPatternCallback, is_op, wildcard\n",
    "\n",
    "class Silu(DFPatternCallback):\n",
    "    # A callback class to rewrite the matched pattern to a batch_norm op.\n",
    "    def __init__(self, require_type=False):\n",
    "        super().__init__(require_type)\n",
    "        self.x = wildcard()\n",
    "        self.pattern = is_op('multiply')(self.x, is_op(\"sigmoid\")(self.x))\n",
    "\n",
    "    def callback(self, pre, post, node_map):\n",
    "        x = node_map[self.x][0]\n",
    "        return relay.op.nn.relu(x)\n",
    "        # return relay.op.silu(x)\n",
    "\n",
    "from tvm.relay.dataflow_pattern import rewrite\n",
    "out = rewrite(Silu(), mod['main'])\n",
    "out"
   ]
  },
  {
   "cell_type": "markdown",
   "metadata": {},
   "source": [
    "---"
   ]
  },
  {
   "cell_type": "code",
   "execution_count": 19,
   "metadata": {},
   "outputs": [
    {
     "data": {
      "text/plain": [
       "fn (%data: Tensor[(1, 3, 224, 224), float32]) -> Tensor[(1, 16, 224, 224), float32] {\n",
       "  %0 = nn.conv2d(%data, meta[relay.Constant][0] /* ty=Tensor[(16, 3, 3, 3), float32] */, padding=[1, 1, 1, 1], channels=16, kernel_size=[3, 3]) /* ty=Tensor[(1, 16, 224, 224), float32] */;\n",
       "  add(%0, meta[relay.Constant][1] /* ty=Tensor[(16, 1, 1), float32] */) /* ty=Tensor[(1, 16, 224, 224), float32] */\n",
       "}"
      ]
     },
     "execution_count": 19,
     "metadata": {},
     "output_type": "execute_result"
    }
   ],
   "source": [
    "import tvm\n",
    "import numpy as np\n",
    "\n",
    "from tvm import relay\n",
    "from tvm.relay.testing import run_infer_type, create_workload\n",
    "from tvm.relay.build_module import bind_params_by_name\n",
    "\n",
    "remove_bn_pass = tvm.transform.Sequential(\n",
    "    [\n",
    "        relay.transform.InferType(),\n",
    "        relay.transform.SimplifyInference(),\n",
    "        relay.transform.FoldConstant(),\n",
    "        relay.transform.FoldScaleAxis(),\n",
    "    ]\n",
    ")\n",
    "\n",
    "data = relay.var(\"data\", relay.TensorType((1, 3, 224, 224), \"float32\"))\n",
    "weight = relay.var(\"weight\")\n",
    "bn_gamma = relay.var(\"bn_gamma\")\n",
    "bn_beta = relay.var(\"bn_beta\")\n",
    "bn_mmean = relay.var(\"bn_mean\")\n",
    "bn_mvar = relay.var(\"bn_var\")\n",
    "\n",
    "conv = relay.nn.conv2d(\n",
    "    data=data, weight=weight, kernel_size=(3, 3), channels=16, padding=(1, 1)\n",
    ")\n",
    "bn_output = relay.nn.batch_norm(conv, bn_gamma, bn_beta, bn_mmean, bn_mvar)\n",
    "\n",
    "def initializer(_, param):\n",
    "    param = np.zeros(param.shape)\n",
    "\n",
    "mod, params = create_workload(bn_output[0], initializer)\n",
    "mod[\"main\"] = bind_params_by_name(mod[\"main\"], params)\n",
    "\n",
    "with tvm.transform.PassContext(opt_level=3):\n",
    "    mod = remove_bn_pass(mod)\n",
    "mod[\"main\"]"
   ]
  },
  {
   "cell_type": "code",
   "execution_count": 6,
   "metadata": {},
   "outputs": [
    {
     "data": {
      "text/plain": [
       "fn (%data: Tensor[(1, 3, 224, 224), float32], %weight: Tensor[(16, 3, 3, 3), float32], %bn_gamma: Tensor[(16), float32], %bn_beta: Tensor[(16), float32], %bn_mean: Tensor[(16), float32], %bn_var: Tensor[(16), float32]) -> Tensor[(1, 16, 224, 224), float32] {\n",
       "  %0 = nn.conv2d(%data, %weight, padding=[1, 1, 1, 1], channels=16, kernel_size=[3, 3]) /* ty=Tensor[(1, 16, 224, 224), float32] */;\n",
       "  %1 = nn.batch_norm(%0, %bn_gamma, %bn_beta, %bn_mean, %bn_var) /* ty=(Tensor[(1, 16, 224, 224), float32], Tensor[(16), float32], Tensor[(16), float32]) */;\n",
       "  %1.0\n",
       "}"
      ]
     },
     "execution_count": 6,
     "metadata": {},
     "output_type": "execute_result"
    }
   ],
   "source": [
    "mod[\"main\"]"
   ]
  },
  {
   "cell_type": "code",
   "execution_count": 20,
   "metadata": {},
   "outputs": [
    {
     "data": {
      "text/plain": [
       "fn (%x: Tensor[(1, 1, 3, 3), float32], %conv.weight: Tensor[(1, 1, 3, 3), float32], %conv.bias: Tensor[(1), float32]) {\n",
       "  %0 = nn.conv2d(%x, %conv.weight, padding=[0, 0, 0, 0], channels=1, kernel_size=[3, 3]);\n",
       "  %1 = nn.conv2d(%x, %conv.weight, padding=[0, 0, 0, 0], channels=1, kernel_size=[3, 3]);\n",
       "  %2 = nn.bias_add(%0, %conv.bias);\n",
       "  %3 = nn.bias_add(%1, %conv.bias);\n",
       "  add(%2, %3)\n",
       "}"
      ]
     },
     "execution_count": 20,
     "metadata": {},
     "output_type": "execute_result"
    }
   ],
   "source": [
    "import torch\n",
    "\n",
    "from torch import nn\n",
    "from torch.nn import functional as F\n",
    "from tvm import relay\n",
    "\n",
    "class M(torch.nn.Module):\n",
    "    def __init__(self):\n",
    "        super().__init__()\n",
    "        self.conv = nn.Conv2d(1, 1, 3)\n",
    "\n",
    "    def forward(self, x):\n",
    "        x1 = self.conv(x)\n",
    "        x2 = self.conv(x)\n",
    "        return x1 + x2\n",
    "\n",
    "x = torch.randn(1, 1, 3, 3)\n",
    "model = M()\n",
    "\n",
    "with torch.no_grad():\n",
    "    scripted_model = torch.jit.trace(model, x).eval()\n",
    "\n",
    "mod, params = relay.frontend.from_pytorch(scripted_model, [('x', x.shape)])\n",
    "mod['main']"
   ]
  },
  {
   "cell_type": "code",
   "execution_count": 17,
   "metadata": {},
   "outputs": [
    {
     "data": {
      "text/plain": [
       "fn (%x: Tensor[(1, 1, 3, 3), float32], %conv.weight: Tensor[(1, 1, 3, 3), float32], %conv.bias: Tensor[(1), float32]) {\n",
       "  %0 = nn.relu(%x);\n",
       "  add(%0, 1f)\n",
       "}"
      ]
     },
     "execution_count": 17,
     "metadata": {},
     "output_type": "execute_result"
    }
   ],
   "source": [
    "from tvm.relay.dataflow_pattern import DFPatternCallback, is_op, wildcard\n",
    "\n",
    "class Conv2d(DFPatternCallback):\n",
    "    # A callback class to rewrite the matched pattern to a batch_norm op.\n",
    "    def __init__(self, require_type=False):\n",
    "        super().__init__(require_type)\n",
    "        self.x = wildcard()\n",
    "        self.w = wildcard()\n",
    "        b = wildcard()\n",
    "        self.pattern = is_op('nn.bias_add')(is_op(\"nn.conv2d\")(self.x, self.w), b)\n",
    "\n",
    "    def callback(self, pre, post, node_map):\n",
    "        x = node_map[self.x][0]\n",
    "        return relay.op.nn.conv2d(x)\n",
    "        # return relay.op.silu(x)\n",
    "\n",
    "from tvm.relay.dataflow_pattern import rewrite\n",
    "out = rewrite(Conv2d(), mod['main'])\n",
    "out"
   ]
  },
  {
   "cell_type": "code",
   "execution_count": null,
   "metadata": {},
   "outputs": [],
   "source": []
  }
 ],
 "metadata": {
  "interpreter": {
   "hash": "4a3057a8c36782cd4f6331a3ae51fc068edd966d636a8a359d99ae7e41376aa0"
  },
  "kernelspec": {
   "display_name": "Python 3.8.12 ('base_3.8')",
   "language": "python",
   "name": "python3"
  },
  "language_info": {
   "codemirror_mode": {
    "name": "ipython",
    "version": 3
   },
   "file_extension": ".py",
   "mimetype": "text/x-python",
   "name": "python",
   "nbconvert_exporter": "python",
   "pygments_lexer": "ipython3",
   "version": "3.8.12"
  },
  "orig_nbformat": 4
 },
 "nbformat": 4,
 "nbformat_minor": 2
}
