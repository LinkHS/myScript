{
 "cells": [
  {
   "cell_type": "code",
   "execution_count": 1,
   "metadata": {},
   "outputs": [],
   "source": [
    "import torch"
   ]
  },
  {
   "cell_type": "markdown",
   "metadata": {},
   "source": [
    "## Fuse SiLU"
   ]
  },
  {
   "cell_type": "code",
   "execution_count": 2,
   "metadata": {},
   "outputs": [],
   "source": [
    "from torch.nn import functional as F\n",
    "\n",
    "class M(torch.nn.Module):\n",
    "    def forward(self, x):\n",
    "        x = x * torch.sigmoid(x)\n",
    "        x = 1 + x\n",
    "        return F.silu(x) + x\n",
    "\n",
    "x = torch.randn(3, 3)\n",
    "model = M()"
   ]
  },
  {
   "cell_type": "code",
   "execution_count": 3,
   "metadata": {},
   "outputs": [
    {
     "data": {
      "text/plain": [
       "fn (%x: Tensor[(3, 3), float32]) {\n",
       "  %0 = sigmoid(%x);\n",
       "  %1 = multiply(%x, %0);\n",
       "  %2 = add(%1, 1f);\n",
       "  %3 = sigmoid(%2);\n",
       "  %4 = multiply(%2, %3);\n",
       "  add(%4, %2)\n",
       "}"
      ]
     },
     "execution_count": 3,
     "metadata": {},
     "output_type": "execute_result"
    }
   ],
   "source": [
    "from tvm import relay\n",
    "\n",
    "with torch.no_grad():\n",
    "    scripted_model = torch.jit.trace(model, x).eval()\n",
    "\n",
    "mod, params = relay.frontend.from_pytorch(scripted_model, [('x', x.shape)])\n",
    "mod['main']"
   ]
  },
  {
   "cell_type": "markdown",
   "metadata": {},
   "source": [
    "上述tvm relay图包含了两次\"sigmoid + multiply\"操作（以add为分界线），其中一次是由于`F.silu()`被拆分了。\n",
    "\n",
    "由于tvm当前版本不支持`silu`算子，于是通过定义pattern将\"sigmoid + multiply\"合并为`nn.relu`："
   ]
  },
  {
   "cell_type": "code",
   "execution_count": 4,
   "metadata": {},
   "outputs": [
    {
     "data": {
      "text/plain": [
       "fn (%x: Tensor[(3, 3), float32]) {\n",
       "  %0 = nn.relu(%x);\n",
       "  %1 = add(%0, 1f);\n",
       "  %2 = nn.relu(%1);\n",
       "  add(%2, %1)\n",
       "}"
      ]
     },
     "execution_count": 4,
     "metadata": {},
     "output_type": "execute_result"
    }
   ],
   "source": [
    "from tvm.relay.dataflow_pattern import DFPatternCallback, is_op, wildcard\n",
    "\n",
    "class Silu(DFPatternCallback):\n",
    "    # A callback class to rewrite the matched pattern to a batch_norm op.\n",
    "    def __init__(self, require_type=False):\n",
    "        super().__init__(require_type)\n",
    "        self.x = wildcard()\n",
    "        self.pattern = is_op('multiply')(self.x, is_op(\"sigmoid\")(self.x))\n",
    "\n",
    "    def callback(self, pre, post, node_map):\n",
    "        x = node_map[self.x][0]\n",
    "        return relay.op.nn.relu(x)\n",
    "        # return relay.op.silu(x)\n",
    "\n",
    "from tvm.relay.dataflow_pattern import rewrite\n",
    "out = rewrite(Silu(), mod['main'])\n",
    "out"
   ]
  }
 ],
 "metadata": {
  "interpreter": {
   "hash": "4a3057a8c36782cd4f6331a3ae51fc068edd966d636a8a359d99ae7e41376aa0"
  },
  "kernelspec": {
   "display_name": "Python 3.8.12 ('base_3.8')",
   "language": "python",
   "name": "python3"
  },
  "language_info": {
   "codemirror_mode": {
    "name": "ipython",
    "version": 3
   },
   "file_extension": ".py",
   "mimetype": "text/x-python",
   "name": "python",
   "nbconvert_exporter": "python",
   "pygments_lexer": "ipython3",
   "version": "3.8.12"
  },
  "orig_nbformat": 4
 },
 "nbformat": 4,
 "nbformat_minor": 2
}
