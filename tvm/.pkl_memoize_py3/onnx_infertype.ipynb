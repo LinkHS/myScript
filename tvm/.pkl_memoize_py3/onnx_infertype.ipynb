{
 "cells": [
  {
   "cell_type": "code",
   "execution_count": 4,
   "metadata": {},
   "outputs": [],
   "source": [
    "import torch\n",
    "from torch import fx\n",
    "\n",
    "class M(torch.nn.Module):\n",
    "    def forward(self, x, y):\n",
    "        return torch.add(x, y)\n",
    "\n",
    "m_add = M()\n",
    "x = y = torch.tensor([0])\n",
    "torch.onnx.export(m_add, args=(x, y), f='temp.onnx')"
   ]
  },
  {
   "cell_type": "code",
   "execution_count": 5,
   "metadata": {},
   "outputs": [],
   "source": [
    "import onnx\n",
    "from tvm import relay\n",
    "\n",
    "onnx_model = onnx.load(\"temp.onnx\")\n",
    "input_info = {'0': (1, 3, 299, 299), '1': (1, 3, 299, 299)}\n",
    "mod, params = relay.frontend.from_onnx(onnx_model, input_info)"
   ]
  },
  {
   "cell_type": "code",
   "execution_count": 7,
   "metadata": {},
   "outputs": [
    {
     "name": "stdout",
     "output_type": "stream",
     "text": [
      "fn (Tensor[(1, 3, 299, 299), int64], Tensor[(1, 3, 299, 299), int64]) -> Tensor[(1, 3, 299, 299), int64]\n"
     ]
    }
   ],
   "source": [
    "# %%script true\n",
    "from tvm.relay import transform\n",
    "\n",
    "mod = transform.InferType()(mod)\n",
    "print(mod[\"main\"].checked_type)"
   ]
  }
 ],
 "metadata": {
  "interpreter": {
   "hash": "4a3057a8c36782cd4f6331a3ae51fc068edd966d636a8a359d99ae7e41376aa0"
  },
  "kernelspec": {
   "display_name": "Python 3.8.12 ('base_3.8')",
   "language": "python",
   "name": "python3"
  },
  "language_info": {
   "codemirror_mode": {
    "name": "ipython",
    "version": 3
   },
   "file_extension": ".py",
   "mimetype": "text/x-python",
   "name": "python",
   "nbconvert_exporter": "python",
   "pygments_lexer": "ipython3",
   "version": "3.8.12"
  },
  "orig_nbformat": 4
 },
 "nbformat": 4,
 "nbformat_minor": 2
}
