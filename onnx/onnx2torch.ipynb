{
 "cells": [
  {
   "cell_type": "markdown",
   "metadata": {},
   "source": [
    "```python\n",
    "import torch\n",
    "\n",
    "class Model(torch.nn.Module):\n",
    "    def __init__(self):\n",
    "        super().__init__()\n",
    "        self.conv1 = torch.nn.Conv2d(3, 3, 3)\n",
    "        self.conv2 = torch.nn.Conv2d(3, 3, 3)\n",
    "\n",
    "    def forward(self, x):\n",
    "        x1 = self.conv1(x)\n",
    "        x2 = self.conv2(x)\n",
    "        return x1 + x2\n",
    "\n",
    "\n",
    "model = Model()\n",
    "input = torch.randn(1, 3, 20, 20)\n",
    "torch.onnx.export(model, input, 'temp.onnx')\n",
    "```"
   ]
  },
  {
   "cell_type": "code",
   "execution_count": 28,
   "metadata": {},
   "outputs": [
    {
     "name": "stdout",
     "output_type": "stream",
     "text": [
      "Conv2d(3, 3, kernel_size=(3, 3), stride=(1, 1)) \n",
      "   OnnxMapping(inputs=('input',), outputs=('5',))\n",
      "Conv2d(3, 3, kernel_size=(3, 3), stride=(1, 1)) \n",
      "   OnnxMapping(inputs=('input',), outputs=('6',))\n",
      "OnnxBinaryMathOperation() \n",
      "   OnnxMapping(inputs=('5', '6'), outputs=('7',))\n"
     ]
    }
   ],
   "source": [
    "import onnx\n",
    "from onnx.shape_inference import infer_shapes\n",
    "from onnx2torch.onnx_graph import OnnxGraph\n",
    "from onnx2torch.node_converters import get_converter\n",
    "\n",
    "onnx_model = onnx.load('../data/conv.onnx')\n",
    "\n",
    "opset_import = {\n",
    "    opsetid_proto.domain: opsetid_proto.version\n",
    "    for opsetid_proto in onnx_model.opset_import\n",
    "}\n",
    "\n",
    "onnx_model = infer_shapes(onnx_model)\n",
    "onnx_graph = OnnxGraph(onnx_model.graph)  # pylint: disable=no-member\n",
    "\n",
    "for name, onnx_node in onnx_graph.nodes.items():\n",
    "    version = opset_import[onnx_node.domain]\n",
    "    converter = get_converter(\n",
    "        domain=onnx_node.domain,\n",
    "        operation_type=onnx_node.operation_type,\n",
    "        version=version,\n",
    "    )\n",
    "    torch_module, onnx_mapping = converter(onnx_node, onnx_graph)\n",
    "    print(torch_module, '\\n  ', onnx_mapping)"
   ]
  }
 ],
 "metadata": {
  "interpreter": {
   "hash": "4a3057a8c36782cd4f6331a3ae51fc068edd966d636a8a359d99ae7e41376aa0"
  },
  "kernelspec": {
   "display_name": "Python 3.8.12 ('base_3.8')",
   "language": "python",
   "name": "python3"
  },
  "language_info": {
   "codemirror_mode": {
    "name": "ipython",
    "version": 3
   },
   "file_extension": ".py",
   "mimetype": "text/x-python",
   "name": "python",
   "nbconvert_exporter": "python",
   "pygments_lexer": "ipython3",
   "version": "3.8.12"
  },
  "orig_nbformat": 4
 },
 "nbformat": 4,
 "nbformat_minor": 2
}
