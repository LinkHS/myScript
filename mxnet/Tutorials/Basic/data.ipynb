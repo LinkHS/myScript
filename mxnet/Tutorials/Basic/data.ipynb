{
 "cells": [
  {
   "cell_type": "markdown",
   "metadata": {},
   "source": [
    "# Iterators - Loading data\n",
    "In this tutorial, we focus on how to feed data into a training or inference program.\n",
    "Most training and inference modules in MXNet accept data iterators,\n",
    "which simplifies this procedure, especially when reading large datasets.\n",
    "Here we discuss the API conventions and several provided iterators.\n",
    "\n",
    "## Prerequisites\n",
    "\n",
    "To complete this tutorial, we need:  \n",
    "\n",
    "- MXNet. See the instructions for your operating system in [Setup and Installation](http://mxnet.io/get_started/install.html).  \n",
    "\n",
    "- [OpenCV Python library](http://opencv.org/opencv-3-2.html),  [Python Requests](http://docs.python-requests.org/en/master/), [Matplotlib](https://matplotlib.org/) and [Jupyter Notebook](http://jupyter.org/index.html).\n",
    "\n",
    "```\n",
    "$ pip install opencv-python requests matplotlib jupyter\n",
    "```\n",
    "- Set the environment variable `MXNET_HOME` to the root of the MXNet source folder.  \n",
    "\n",
    "```\n",
    "$ git clone https://github.com/dmlc/mxnet ~/mxnet\n",
    "$ export MXNET_HOME='~/mxnet'\n",
    "```\n",
    "\n",
    "## MXNet Data Iterator  \n",
    "Data Iterators in *MXNet* are similar to Python iterator objects.\n",
    "In Python, the function `iter` allows fetching items sequentially by calling  `next()` on\n",
    " iterable objects such as a Python `list`.\n",
    "Iterators provide an abstract interface for traversing various types of iterable collections\n",
    " without needing to expose details about the underlying data source.\n",
    "\n",
    "In MXNet, data iterators return a batch of data as `DataBatch` on each call to `next`.\n",
    "A `DataBatch` often contains *n* training examples and their corresponding labels. Here *n* is the `batch_size` of the iterator. At the end of the data stream when there is no more data to read, the iterator raises ``StopIteration`` exception like Python `iter`. \n",
    "The structure of `DataBatch` is defined [here](http://mxnet.io/api/python/io.html#mxnet.io.DataBatch).\n",
    "\n",
    "Information such as name, shape, type and layout on each training example and their corresponding label can be provided as `DataDesc` data descriptor objects via the `provide_data` and `provide_label` properties in `DataBatch`.\n",
    "The structure of `DataDesc` is defined [here](http://mxnet.io/api/python/io.html#mxnet.io.DataDesc).\n",
    "\n",
    "All IO in MXNet is handled via `mx.io.DataIter` and its subclasses. In this tutorial, we'll discuss a few commonly used iterators provided by MXNet.\n",
    "\n",
    "Before diving into the details let's setup the environment by importing some required packages:"
   ]
  },
  {
   "cell_type": "code",
   "execution_count": 1,
   "metadata": {},
   "outputs": [],
   "source": [
    "import mxnet as mx\n",
    "%matplotlib inline\n",
    "import os\n",
    "import subprocess\n",
    "import numpy as np\n",
    "import matplotlib.pyplot as plt\n",
    "import tarfile\n",
    "\n",
    "import warnings\n",
    "warnings.filterwarnings(\"ignore\", category=DeprecationWarning)"
   ]
  },
  {
   "cell_type": "markdown",
   "metadata": {},
   "source": [
    "## Reading data in memory\n",
    "When data is stored in memory, backed by either an `NDArray` or ``numpy`` `ndarray`,\n",
    "we can use the [__`NDArrayIter`__](http://mxnet.io/api/python/io.html#mxnet.io.NDArrayIter) to read data as below:"
   ]
  },
  {
   "cell_type": "code",
   "execution_count": 2,
   "metadata": {},
   "outputs": [
    {
     "name": "stdout",
     "output_type": "stream",
     "text": [
      "[[\n",
      "[[ 0.19591349  0.10904632  0.93428499]\n",
      " [ 0.73079938  0.14488231  0.36979282]\n",
      " [ 0.30481508  0.53246784  0.62282634]\n",
      " [ 0.04689342  0.12207515  0.38962099]\n",
      " [ 0.73264205  0.01820673  0.30196342]\n",
      " [ 0.57995403  0.90711135  0.95137137]\n",
      " [ 0.80282849  0.22103587  0.60107189]\n",
      " [ 0.45626658  0.45662892  0.34353125]\n",
      " [ 0.74595237  0.57767016  0.05065122]\n",
      " [ 0.38452443  0.85285211  0.59867716]\n",
      " [ 0.14639492  0.79364347  0.98033363]\n",
      " [ 0.33669198  0.68317366  0.02335599]\n",
      " [ 0.52449828  0.56407541  0.26978651]\n",
      " [ 0.66312414  0.41020775  0.10940284]\n",
      " [ 0.48404375  0.72554171  0.41953185]\n",
      " [ 0.56680024  0.79678458  0.07621191]\n",
      " [ 0.88766706  0.52464628  0.95830989]\n",
      " [ 0.24725002  0.74321216  0.19176394]\n",
      " [ 0.1585028   0.78418535  0.63324487]\n",
      " [ 0.66158664  0.72472692  0.70732993]\n",
      " [ 0.08764346  0.66211528  0.99234945]\n",
      " [ 0.87506348  0.86838955  0.13176152]\n",
      " [ 0.29708859  0.82327038  0.41119123]\n",
      " [ 0.45723477  0.73484331  0.34672871]\n",
      " [ 0.72561681  0.76829785  0.2929337 ]\n",
      " [ 0.47169101  0.61014467  0.05628525]\n",
      " [ 0.13599111  0.95605344  0.80796582]\n",
      " [ 0.04712196  0.55048138  0.03585108]\n",
      " [ 0.6749211   0.42161378  0.52904892]\n",
      " [ 0.61630672  0.93338686  0.70947683]]\n",
      "<NDArray 30x3 @cpu(0)>], [\n",
      "[ 6.  4.  3.  4.  4.  2.  1.  3.  2.  7.  8.  8.  0.  9.  5.  0.  8.  7.\n",
      "  1.  8.  9.  8.  2.  4.  0.  1.  1.  9.  3.  2.]\n",
      "<NDArray 30 @cpu(0)>], 0]\n",
      "[[\n",
      "[[ 0.66668892  0.92372906  0.85546303]\n",
      " [ 0.81933635  0.18232103  0.40777114]\n",
      " [ 0.29376847  0.90270263  0.95308667]\n",
      " [ 0.7049334   0.92494106  0.32609817]\n",
      " [ 0.73011702  0.76370162  0.69219261]\n",
      " [ 0.37145999  0.884767    0.12781695]\n",
      " [ 0.77780056  0.74065989  0.09785193]\n",
      " [ 0.81671739  0.57426786  0.91145754]\n",
      " [ 0.77296025  0.03008414  0.81478739]\n",
      " [ 0.09543809  0.01112673  0.4959698 ]\n",
      " [ 0.22702107  0.77244091  0.91690612]\n",
      " [ 0.28413263  0.06678022  0.32143515]\n",
      " [ 0.67741656  0.44185799  0.71175122]\n",
      " [ 0.40792704  0.04248302  0.34589988]\n",
      " [ 0.24601758  0.02261503  0.09629362]\n",
      " [ 0.09835373  0.63141346  0.89502209]\n",
      " [ 0.94369942  0.32024151  0.63258827]\n",
      " [ 0.28589001  0.69058412  0.32147455]\n",
      " [ 0.93080848  0.09027773  0.48549294]\n",
      " [ 0.15212463  0.26569647  0.54546511]\n",
      " [ 0.26997039  0.9470486   0.71039081]\n",
      " [ 0.44386637  0.48827377  0.91523731]\n",
      " [ 0.77805698  0.67594844  0.6953029 ]\n",
      " [ 0.92327279  0.41011325  0.51157212]\n",
      " [ 0.08876513  0.37160343  0.70486039]\n",
      " [ 0.08502036  0.25191376  0.59637362]\n",
      " [ 0.52907902  0.95701611  0.5127421 ]\n",
      " [ 0.30386239  0.92234206  0.29001567]\n",
      " [ 0.88827115  0.81336462  0.35914686]\n",
      " [ 0.15346441  0.78287131  0.50958401]]\n",
      "<NDArray 30x3 @cpu(0)>], [\n",
      "[ 3.  3.  2.  6.  1.  1.  0.  7.  8.  0.  3.  9.  9.  4.  3.  2.  8.  9.\n",
      "  8.  6.  1.  4.  3.  5.  6.  1.  0.  5.  9.  7.]\n",
      "<NDArray 30 @cpu(0)>], 0]\n",
      "[[\n",
      "[[ 0.39027911  0.52817053  0.01013843]\n",
      " [ 0.50092041  0.78196692  0.24739456]\n",
      " [ 0.70343012  0.33309755  0.44797754]\n",
      " [ 0.39539266  0.9353078   0.34998342]\n",
      " [ 0.48906362  0.23343715  0.6953271 ]\n",
      " [ 0.11614255  0.86839998  0.3174251 ]\n",
      " [ 0.30253249  0.22452091  0.3471182 ]\n",
      " [ 0.06222166  0.43082196  0.77828109]\n",
      " [ 0.33936056  0.8000192   0.94810253]\n",
      " [ 0.79542518  0.62032646  0.06984524]\n",
      " [ 0.22333923  0.28344363  0.83132076]\n",
      " [ 0.05108808  0.23269096  0.46565932]\n",
      " [ 0.38524836  0.79126996  0.17646679]\n",
      " [ 0.37963495  0.32104814  0.37500215]\n",
      " [ 0.60797197  0.45156118  0.51154125]\n",
      " [ 0.45269421  0.53636706  0.78699017]\n",
      " [ 0.41054204  0.43127996  0.0737442 ]\n",
      " [ 0.42380193  0.58021748  0.25875914]\n",
      " [ 0.34140861  0.32308546  0.72356868]\n",
      " [ 0.61070508  0.84021747  0.28633204]\n",
      " [ 0.74745989  0.58270985  0.36009854]\n",
      " [ 0.61020809  0.31380528  0.80270058]\n",
      " [ 0.47442129  0.40385881  0.93952495]\n",
      " [ 0.9190973   0.79139411  0.77951342]\n",
      " [ 0.88513118  0.41909182  0.42598847]\n",
      " [ 0.07889737  0.50056165  0.45972377]\n",
      " [ 0.37539905  0.55398464  0.2936641 ]\n",
      " [ 0.68859184  0.12072124  0.30582476]\n",
      " [ 0.31748751  0.1323701   0.76796526]\n",
      " [ 0.37302366  0.19091058  0.04417711]]\n",
      "<NDArray 30x3 @cpu(0)>], [\n",
      "[ 1.  2.  0.  5.  8.  3.  1.  4.  3.  4.  8.  9.  9.  2.  3.  0.  8.  9.\n",
      "  0.  3.  2.  9.  6.  7.  5.  3.  7.  0.  0.  7.]\n",
      "<NDArray 30 @cpu(0)>], 0]\n",
      "[[\n",
      "[[ 0.71949297  0.93557096  0.34645295]\n",
      " [ 0.97214532  0.1072934   0.80490875]\n",
      " [ 0.28345674  0.49029368  0.80532336]\n",
      " [ 0.53879082  0.35128018  0.74981761]\n",
      " [ 0.5742473   0.97127539  0.6157344 ]\n",
      " [ 0.10729949  0.39140585  0.54438359]\n",
      " [ 0.64089513  0.15971982  0.91090399]\n",
      " [ 0.58975959  0.88617074  0.5634259 ]\n",
      " [ 0.26226249  0.17442992  0.69647491]\n",
      " [ 0.23567748  0.58046955  0.02691245]\n",
      " [ 0.19591349  0.10904632  0.93428499]\n",
      " [ 0.73079938  0.14488231  0.36979282]\n",
      " [ 0.30481508  0.53246784  0.62282634]\n",
      " [ 0.04689342  0.12207515  0.38962099]\n",
      " [ 0.73264205  0.01820673  0.30196342]\n",
      " [ 0.57995403  0.90711135  0.95137137]\n",
      " [ 0.80282849  0.22103587  0.60107189]\n",
      " [ 0.45626658  0.45662892  0.34353125]\n",
      " [ 0.74595237  0.57767016  0.05065122]\n",
      " [ 0.38452443  0.85285211  0.59867716]\n",
      " [ 0.14639492  0.79364347  0.98033363]\n",
      " [ 0.33669198  0.68317366  0.02335599]\n",
      " [ 0.52449828  0.56407541  0.26978651]\n",
      " [ 0.66312414  0.41020775  0.10940284]\n",
      " [ 0.48404375  0.72554171  0.41953185]\n",
      " [ 0.56680024  0.79678458  0.07621191]\n",
      " [ 0.88766706  0.52464628  0.95830989]\n",
      " [ 0.24725002  0.74321216  0.19176394]\n",
      " [ 0.1585028   0.78418535  0.63324487]\n",
      " [ 0.66158664  0.72472692  0.70732993]]\n",
      "<NDArray 30x3 @cpu(0)>], [\n",
      "[ 1.  1.  2.  8.  0.  4.  6.  3.  7.  8.  6.  4.  3.  4.  4.  2.  1.  3.\n",
      "  2.  7.  8.  8.  0.  9.  5.  0.  8.  7.  1.  8.]\n",
      "<NDArray 30 @cpu(0)>], 20]\n"
     ]
    }
   ],
   "source": [
    "import numpy as np\n",
    "data = np.random.rand(100,3)\n",
    "label = np.random.randint(0, 10, (100,))\n",
    "data_iter = mx.io.NDArrayIter(data=data, label=label, batch_size=30)\n",
    "for batch in data_iter:\n",
    "    print([batch.data, batch.label, batch.pad])"
   ]
  },
  {
   "cell_type": "markdown",
   "metadata": {},
   "source": [
    "## Reading data from CSV files\n",
    "MXNet provides [`CSVIter`](http://mxnet.io/api/python/io.html#mxnet.io.CSVIter)\n",
    "to read from CSV files and can be used as below:"
   ]
  },
  {
   "cell_type": "code",
   "execution_count": 3,
   "metadata": {},
   "outputs": [
    {
     "name": "stdout",
     "output_type": "stream",
     "text": [
      "[[\n",
      "[[ 0.19591349  0.10904632  0.93428499]\n",
      " [ 0.73079938  0.14488229  0.36979282]\n",
      " [ 0.30481508  0.53246784  0.62282634]\n",
      " [ 0.04689341  0.12207516  0.38962096]\n",
      " [ 0.73264205  0.01820673  0.30196339]\n",
      " [ 0.57995403  0.90711135  0.95137137]\n",
      " [ 0.80282849  0.22103587  0.60107189]\n",
      " [ 0.45626658  0.45662889  0.34353128]\n",
      " [ 0.74595237  0.57767016  0.05065122]\n",
      " [ 0.38452441  0.85285205  0.59867716]\n",
      " [ 0.14639492  0.79364347  0.98033363]\n",
      " [ 0.33669198  0.68317366  0.02335599]\n",
      " [ 0.52449828  0.56407541  0.26978651]\n",
      " [ 0.66312414  0.41020775  0.10940284]\n",
      " [ 0.48404375  0.72554171  0.41953188]\n",
      " [ 0.56680024  0.79678458  0.07621191]\n",
      " [ 0.88766706  0.52464622  0.95830983]\n",
      " [ 0.24725001  0.7432121   0.19176395]\n",
      " [ 0.1585028   0.78418535  0.63324487]\n",
      " [ 0.66158664  0.72472697  0.70732993]\n",
      " [ 0.08764346  0.66211528  0.99234945]\n",
      " [ 0.87506354  0.86838949  0.13176152]\n",
      " [ 0.29708859  0.82327044  0.41119123]\n",
      " [ 0.45723477  0.73484331  0.34672871]\n",
      " [ 0.72561681  0.76829785  0.2929337 ]\n",
      " [ 0.47169104  0.61014467  0.05628525]\n",
      " [ 0.13599113  0.95605344  0.80796587]\n",
      " [ 0.04712196  0.55048138  0.03585108]\n",
      " [ 0.67492115  0.42161378  0.52904892]\n",
      " [ 0.61630666  0.9333868   0.70947683]]\n",
      "<NDArray 30x3 @cpu(0)>], 0]\n",
      "[[\n",
      "[[ 0.66668892  0.92372912  0.85546303]\n",
      " [ 0.8193363   0.18232104  0.40777111]\n",
      " [ 0.29376847  0.90270263  0.95308667]\n",
      " [ 0.7049334   0.92494106  0.32609817]\n",
      " [ 0.73011702  0.76370162  0.69219261]\n",
      " [ 0.37146002  0.88476694  0.12781695]\n",
      " [ 0.77780056  0.74065989  0.09785193]\n",
      " [ 0.81671733  0.57426786  0.91145754]\n",
      " [ 0.77296025  0.03008414  0.81478739]\n",
      " [ 0.09543809  0.01112673  0.49596977]\n",
      " [ 0.22702107  0.77244091  0.91690618]\n",
      " [ 0.28413263  0.06678022  0.32143515]\n",
      " [ 0.67741662  0.44185796  0.71175122]\n",
      " [ 0.40792704  0.04248302  0.34589988]\n",
      " [ 0.24601758  0.02261503  0.09629362]\n",
      " [ 0.09835373  0.63141346  0.89502209]\n",
      " [ 0.94369948  0.32024151  0.63258827]\n",
      " [ 0.28589001  0.69058406  0.32147455]\n",
      " [ 0.93080854  0.09027773  0.48549294]\n",
      " [ 0.15212464  0.26569647  0.54546511]\n",
      " [ 0.26997036  0.94704854  0.71039081]\n",
      " [ 0.4438664   0.48827377  0.91523731]\n",
      " [ 0.77805698  0.6759485   0.6953029 ]\n",
      " [ 0.92327279  0.41011325  0.51157212]\n",
      " [ 0.08876512  0.37160343  0.70486039]\n",
      " [ 0.08502036  0.25191373  0.59637362]\n",
      " [ 0.52907902  0.95701611  0.5127421 ]\n",
      " [ 0.30386239  0.92234212  0.29001567]\n",
      " [ 0.88827115  0.81336462  0.35914686]\n",
      " [ 0.15346441  0.78287131  0.50958407]]\n",
      "<NDArray 30x3 @cpu(0)>], 0]\n",
      "[[\n",
      "[[ 0.39027911  0.52817053  0.01013843]\n",
      " [ 0.50092041  0.78196692  0.24739456]\n",
      " [ 0.70343012  0.33309752  0.44797754]\n",
      " [ 0.39539266  0.9353078   0.34998339]\n",
      " [ 0.48906359  0.23343715  0.69532716]\n",
      " [ 0.11614255  0.86839998  0.3174251 ]\n",
      " [ 0.30253249  0.22452089  0.3471182 ]\n",
      " [ 0.06222166  0.43082196  0.77828109]\n",
      " [ 0.33936056  0.80001915  0.94810259]\n",
      " [ 0.79542518  0.62032646  0.06984523]\n",
      " [ 0.22333923  0.28344363  0.83132076]\n",
      " [ 0.05108808  0.23269096  0.46565932]\n",
      " [ 0.38524836  0.79126996  0.17646679]\n",
      " [ 0.37963495  0.32104814  0.37500215]\n",
      " [ 0.60797197  0.45156121  0.51154125]\n",
      " [ 0.45269424  0.53636706  0.78699011]\n",
      " [ 0.41054207  0.43127996  0.0737442 ]\n",
      " [ 0.42380196  0.58021748  0.25875911]\n",
      " [ 0.34140861  0.32308546  0.72356868]\n",
      " [ 0.61070508  0.84021747  0.28633204]\n",
      " [ 0.74745989  0.58270985  0.36009854]\n",
      " [ 0.61020815  0.31380528  0.80270052]\n",
      " [ 0.47442132  0.40385881  0.93952495]\n",
      " [ 0.9190973   0.79139411  0.77951342]\n",
      " [ 0.88513118  0.41909179  0.4259885 ]\n",
      " [ 0.07889738  0.50056165  0.45972377]\n",
      " [ 0.37539905  0.55398464  0.2936641 ]\n",
      " [ 0.68859184  0.12072124  0.30582476]\n",
      " [ 0.31748754  0.1323701   0.76796526]\n",
      " [ 0.37302366  0.19091058  0.04417711]]\n",
      "<NDArray 30x3 @cpu(0)>], 0]\n",
      "[[\n",
      "[[ 0.71949303  0.93557101  0.34645292]\n",
      " [ 0.97214538  0.1072934   0.80490875]\n",
      " [ 0.28345674  0.49029368  0.8053233 ]\n",
      " [ 0.53879082  0.35128018  0.74981767]\n",
      " [ 0.57424724  0.97127533  0.6157344 ]\n",
      " [ 0.10729949  0.39140585  0.54438365]\n",
      " [ 0.64089513  0.15971982  0.91090405]\n",
      " [ 0.58975959  0.88617074  0.5634259 ]\n",
      " [ 0.26226252  0.17442992  0.69647491]\n",
      " [ 0.23567748  0.58046949  0.02691245]\n",
      " [ 0.19591349  0.10904632  0.93428499]\n",
      " [ 0.73079938  0.14488229  0.36979282]\n",
      " [ 0.30481508  0.53246784  0.62282634]\n",
      " [ 0.04689341  0.12207516  0.38962096]\n",
      " [ 0.73264205  0.01820673  0.30196339]\n",
      " [ 0.57995403  0.90711135  0.95137137]\n",
      " [ 0.80282849  0.22103587  0.60107189]\n",
      " [ 0.45626658  0.45662889  0.34353128]\n",
      " [ 0.74595237  0.57767016  0.05065122]\n",
      " [ 0.38452441  0.85285205  0.59867716]\n",
      " [ 0.14639492  0.79364347  0.98033363]\n",
      " [ 0.33669198  0.68317366  0.02335599]\n",
      " [ 0.52449828  0.56407541  0.26978651]\n",
      " [ 0.66312414  0.41020775  0.10940284]\n",
      " [ 0.48404375  0.72554171  0.41953188]\n",
      " [ 0.56680024  0.79678458  0.07621191]\n",
      " [ 0.88766706  0.52464622  0.95830983]\n",
      " [ 0.24725001  0.7432121   0.19176395]\n",
      " [ 0.1585028   0.78418535  0.63324487]\n",
      " [ 0.66158664  0.72472697  0.70732993]]\n",
      "<NDArray 30x3 @cpu(0)>], 20]\n"
     ]
    }
   ],
   "source": [
    "#lets save `data` into a csv file first and try reading it back\n",
    "np.savetxt('data.csv', data, delimiter=',')\n",
    "data_iter = mx.io.CSVIter(data_csv='data.csv', data_shape=(3,), batch_size=30)\n",
    "for batch in data_iter:\n",
    "    print([batch.data, batch.pad])"
   ]
  },
  {
   "cell_type": "markdown",
   "metadata": {},
   "source": [
    "## Custom Iterator\n",
    "When the built-in iterators do not suit your application needs,\n",
    "you can create your own custom data iterator.\n",
    "\n",
    "An iterator in _MXNet_ should\n",
    "1. Implement `next()` in ``Python2`` or `__next()__` in ``Python3``,\n",
    "   returning a `DataBatch` or raising a `StopIteration` exception if at the end of the data stream.\n",
    "2. Implement the `reset()` method to restart reading from the beginning.\n",
    "3. Have a `provide_data` attribute, consisting of a list of `DataDesc` objects that store the name, shape, type and layout information of the data (more info [here](http://mxnet.io/api/python/io.html#mxnet.io.DataBatch)).\n",
    "4. Have a `provide_label` attribute consisting of a list of `DataDesc` objects that store the name, shape, type and layout information of the label.\n",
    "\n",
    "When creating a new iterator, you can either start from scratch and define an iterator or reuse one of the existing iterators.\n",
    "For example, in the image captioning application, the input example is an image while the label is a sentence.\n",
    "Thus we can create a new iterator by:\n",
    "- creating a `image_iter` by using `ImageRecordIter` which provides multithreaded pre-fetch and augmentation.\n",
    "- creating a `caption_iter` by using `NDArrayIter` or the bucketing iterator provided in the *rnn* package.\n",
    "- `next()` returns the combined result of `image_iter.next()` and `caption_iter.next()`\n",
    "\n",
    "The example below shows how to create a Simple iterator."
   ]
  },
  {
   "cell_type": "code",
   "execution_count": 4,
   "metadata": {},
   "outputs": [],
   "source": [
    "class SimpleIter(mx.io.DataIter):\n",
    "    def __init__(self, data_names, data_shapes, data_gen,\n",
    "                 label_names, label_shapes, label_gen, num_batches=10):\n",
    "        self._provide_data = zip(data_names, data_shapes)\n",
    "        self._provide_label = zip(label_names, label_shapes)\n",
    "        self.num_batches = num_batches\n",
    "        self.data_gen = data_gen\n",
    "        self.label_gen = label_gen\n",
    "        self.cur_batch = 0\n",
    "\n",
    "    def __iter__(self):\n",
    "        return self\n",
    "\n",
    "    def reset(self):\n",
    "        self.cur_batch = 0\n",
    "\n",
    "    def __next__(self):\n",
    "        return self.next()\n",
    "\n",
    "    @property\n",
    "    def provide_data(self):\n",
    "        return self._provide_data\n",
    "\n",
    "    @property\n",
    "    def provide_label(self):\n",
    "        return self._provide_label\n",
    "\n",
    "    def next(self):\n",
    "        if self.cur_batch < self.num_batches:\n",
    "            self.cur_batch += 1\n",
    "            data = [mx.nd.array(g(d[1])) for d,g in zip(self._provide_data, self.data_gen)]\n",
    "            label = [mx.nd.array(g(d[1])) for d,g in zip(self._provide_label, self.label_gen)]\n",
    "            return mx.io.DataBatch(data, label)\n",
    "        else:\n",
    "            raise StopIteration"
   ]
  },
  {
   "cell_type": "markdown",
   "metadata": {},
   "source": [
    "We can use the above defined `SimpleIter` to train a simple MLP program below:"
   ]
  },
  {
   "cell_type": "code",
   "execution_count": 5,
   "metadata": {},
   "outputs": [
    {
     "name": "stdout",
     "output_type": "stream",
     "text": [
      "['data', 'fc1_weight', 'fc1_bias', 'fc2_weight', 'fc2_bias', 'softmax_label']\n",
      "['softmax_output']\n"
     ]
    }
   ],
   "source": [
    "import mxnet as mx\n",
    "num_classes = 10\n",
    "net = mx.sym.Variable('data')\n",
    "net = mx.sym.FullyConnected(data=net, name='fc1', num_hidden=64)\n",
    "net = mx.sym.Activation(data=net, name='relu1', act_type=\"relu\")\n",
    "net = mx.sym.FullyConnected(data=net, name='fc2', num_hidden=num_classes)\n",
    "net = mx.sym.SoftmaxOutput(data=net, name='softmax')\n",
    "print(net.list_arguments())\n",
    "print(net.list_outputs())"
   ]
  },
  {
   "cell_type": "markdown",
   "metadata": {},
   "source": [
    "Here, there are four variables that are learnable parameters:\n",
    "the *weights* and *biases* of FullyConnected layers *fc1* and *fc2*,\n",
    "two variables for input data: *data* for the training examples\n",
    "and *softmax_label* contains the respective labels and the *softmax_output*.\n",
    "\n",
    "The *data* variables are called free variables in MXNet's Symbol API.\n",
    "To execute a Symbol, they need to be bound with data.\n",
    "[Click here learn more about Symbol](http://mxnet.io/tutorials/basic/symbol.html).\n",
    "\n",
    "We use the data iterator to feed examples to a neural network via MXNet's `module` API.\n",
    "[Click here to learn more about Module](http://mxnet.io/tutorials/basic/module.html)."
   ]
  },
  {
   "cell_type": "code",
   "execution_count": 6,
   "metadata": {},
   "outputs": [
    {
     "ename": "ValueError",
     "evalue": "Data provided by data_shapes don't match names specified by data_names ([] vs. ['data'])",
     "output_type": "error",
     "traceback": [
      "\u001b[0;31m---------------------------------------------------------------------------\u001b[0m",
      "\u001b[0;31mValueError\u001b[0m                                Traceback (most recent call last)",
      "\u001b[0;32m<ipython-input-6-a2ae3e4b88e5>\u001b[0m in \u001b[0;36m<module>\u001b[0;34m()\u001b[0m\n\u001b[1;32m      9\u001b[0m \u001b[0;34m\u001b[0m\u001b[0m\n\u001b[1;32m     10\u001b[0m \u001b[0mmod\u001b[0m \u001b[0;34m=\u001b[0m \u001b[0mmx\u001b[0m\u001b[0;34m.\u001b[0m\u001b[0mmod\u001b[0m\u001b[0;34m.\u001b[0m\u001b[0mModule\u001b[0m\u001b[0;34m(\u001b[0m\u001b[0msymbol\u001b[0m\u001b[0;34m=\u001b[0m\u001b[0mnet\u001b[0m\u001b[0;34m)\u001b[0m\u001b[0;34m\u001b[0m\u001b[0m\n\u001b[0;32m---> 11\u001b[0;31m \u001b[0mmod\u001b[0m\u001b[0;34m.\u001b[0m\u001b[0mfit\u001b[0m\u001b[0;34m(\u001b[0m\u001b[0mdata_iter\u001b[0m\u001b[0;34m,\u001b[0m \u001b[0mnum_epoch\u001b[0m\u001b[0;34m=\u001b[0m\u001b[0;36m5\u001b[0m\u001b[0;34m)\u001b[0m\u001b[0;34m\u001b[0m\u001b[0m\n\u001b[0m",
      "\u001b[0;32m~/VirtualEnv/mxnet_master/local/lib/python3.5/site-packages/mxnet/module/base_module.py\u001b[0m in \u001b[0;36mfit\u001b[0;34m(self, train_data, eval_data, eval_metric, epoch_end_callback, batch_end_callback, kvstore, optimizer, optimizer_params, eval_end_callback, eval_batch_end_callback, initializer, arg_params, aux_params, allow_missing, force_rebind, force_init, begin_epoch, num_epoch, validation_metric, monitor)\u001b[0m\n\u001b[1;32m    485\u001b[0m                 \u001b[0;32mif\u001b[0m \u001b[0mmonitor\u001b[0m \u001b[0;32mis\u001b[0m \u001b[0;32mnot\u001b[0m \u001b[0;32mNone\u001b[0m\u001b[0;34m:\u001b[0m\u001b[0;34m\u001b[0m\u001b[0m\n\u001b[1;32m    486\u001b[0m                     \u001b[0mmonitor\u001b[0m\u001b[0;34m.\u001b[0m\u001b[0mtic\u001b[0m\u001b[0;34m(\u001b[0m\u001b[0;34m)\u001b[0m\u001b[0;34m\u001b[0m\u001b[0m\n\u001b[0;32m--> 487\u001b[0;31m                 \u001b[0mself\u001b[0m\u001b[0;34m.\u001b[0m\u001b[0mforward_backward\u001b[0m\u001b[0;34m(\u001b[0m\u001b[0mdata_batch\u001b[0m\u001b[0;34m)\u001b[0m\u001b[0;34m\u001b[0m\u001b[0m\n\u001b[0m\u001b[1;32m    488\u001b[0m                 \u001b[0mself\u001b[0m\u001b[0;34m.\u001b[0m\u001b[0mupdate\u001b[0m\u001b[0;34m(\u001b[0m\u001b[0;34m)\u001b[0m\u001b[0;34m\u001b[0m\u001b[0m\n\u001b[1;32m    489\u001b[0m                 \u001b[0;32mtry\u001b[0m\u001b[0;34m:\u001b[0m\u001b[0;34m\u001b[0m\u001b[0m\n",
      "\u001b[0;32m~/VirtualEnv/mxnet_master/local/lib/python3.5/site-packages/mxnet/module/base_module.py\u001b[0m in \u001b[0;36mforward_backward\u001b[0;34m(self, data_batch)\u001b[0m\n\u001b[1;32m    189\u001b[0m     \u001b[0;32mdef\u001b[0m \u001b[0mforward_backward\u001b[0m\u001b[0;34m(\u001b[0m\u001b[0mself\u001b[0m\u001b[0;34m,\u001b[0m \u001b[0mdata_batch\u001b[0m\u001b[0;34m)\u001b[0m\u001b[0;34m:\u001b[0m\u001b[0;34m\u001b[0m\u001b[0m\n\u001b[1;32m    190\u001b[0m         \u001b[0;34m\"\"\"A convenient function that calls both ``forward`` and ``backward``.\"\"\"\u001b[0m\u001b[0;34m\u001b[0m\u001b[0m\n\u001b[0;32m--> 191\u001b[0;31m         \u001b[0mself\u001b[0m\u001b[0;34m.\u001b[0m\u001b[0mforward\u001b[0m\u001b[0;34m(\u001b[0m\u001b[0mdata_batch\u001b[0m\u001b[0;34m,\u001b[0m \u001b[0mis_train\u001b[0m\u001b[0;34m=\u001b[0m\u001b[0;32mTrue\u001b[0m\u001b[0;34m)\u001b[0m\u001b[0;34m\u001b[0m\u001b[0m\n\u001b[0m\u001b[1;32m    192\u001b[0m         \u001b[0mself\u001b[0m\u001b[0;34m.\u001b[0m\u001b[0mbackward\u001b[0m\u001b[0;34m(\u001b[0m\u001b[0;34m)\u001b[0m\u001b[0;34m\u001b[0m\u001b[0m\n\u001b[1;32m    193\u001b[0m \u001b[0;34m\u001b[0m\u001b[0m\n",
      "\u001b[0;32m~/VirtualEnv/mxnet_master/local/lib/python3.5/site-packages/mxnet/module/module.py\u001b[0m in \u001b[0;36mforward\u001b[0;34m(self, data_batch, is_train)\u001b[0m\n\u001b[1;32m    592\u001b[0m                 \u001b[0mnew_lshape\u001b[0m \u001b[0;34m=\u001b[0m \u001b[0;32mNone\u001b[0m\u001b[0;34m\u001b[0m\u001b[0m\n\u001b[1;32m    593\u001b[0m \u001b[0;34m\u001b[0m\u001b[0m\n\u001b[0;32m--> 594\u001b[0;31m             \u001b[0mself\u001b[0m\u001b[0;34m.\u001b[0m\u001b[0mreshape\u001b[0m\u001b[0;34m(\u001b[0m\u001b[0mnew_dshape\u001b[0m\u001b[0;34m,\u001b[0m \u001b[0mnew_lshape\u001b[0m\u001b[0;34m)\u001b[0m\u001b[0;34m\u001b[0m\u001b[0m\n\u001b[0m\u001b[1;32m    595\u001b[0m \u001b[0;34m\u001b[0m\u001b[0m\n\u001b[1;32m    596\u001b[0m         \u001b[0mself\u001b[0m\u001b[0;34m.\u001b[0m\u001b[0m_exec_group\u001b[0m\u001b[0;34m.\u001b[0m\u001b[0mforward\u001b[0m\u001b[0;34m(\u001b[0m\u001b[0mdata_batch\u001b[0m\u001b[0;34m,\u001b[0m \u001b[0mis_train\u001b[0m\u001b[0;34m)\u001b[0m\u001b[0;34m\u001b[0m\u001b[0m\n",
      "\u001b[0;32m~/VirtualEnv/mxnet_master/local/lib/python3.5/site-packages/mxnet/module/module.py\u001b[0m in \u001b[0;36mreshape\u001b[0;34m(self, data_shapes, label_shapes)\u001b[0m\n\u001b[1;32m    454\u001b[0m         \u001b[0;32massert\u001b[0m \u001b[0mself\u001b[0m\u001b[0;34m.\u001b[0m\u001b[0mbinded\u001b[0m\u001b[0;34m\u001b[0m\u001b[0m\n\u001b[1;32m    455\u001b[0m         self._data_shapes, self._label_shapes = _parse_data_desc(\n\u001b[0;32m--> 456\u001b[0;31m             self.data_names, self.label_names, data_shapes, label_shapes)\n\u001b[0m\u001b[1;32m    457\u001b[0m \u001b[0;34m\u001b[0m\u001b[0m\n\u001b[1;32m    458\u001b[0m         \u001b[0mself\u001b[0m\u001b[0;34m.\u001b[0m\u001b[0m_exec_group\u001b[0m\u001b[0;34m.\u001b[0m\u001b[0mreshape\u001b[0m\u001b[0;34m(\u001b[0m\u001b[0mself\u001b[0m\u001b[0;34m.\u001b[0m\u001b[0m_data_shapes\u001b[0m\u001b[0;34m,\u001b[0m \u001b[0mself\u001b[0m\u001b[0;34m.\u001b[0m\u001b[0m_label_shapes\u001b[0m\u001b[0;34m)\u001b[0m\u001b[0;34m\u001b[0m\u001b[0m\n",
      "\u001b[0;32m~/VirtualEnv/mxnet_master/local/lib/python3.5/site-packages/mxnet/module/base_module.py\u001b[0m in \u001b[0;36m_parse_data_desc\u001b[0;34m(data_names, label_names, data_shapes, label_shapes)\u001b[0m\n\u001b[1;32m     69\u001b[0m     \u001b[0;34m\"\"\"parse data_attrs into DataDesc format and check that names match\"\"\"\u001b[0m\u001b[0;34m\u001b[0m\u001b[0m\n\u001b[1;32m     70\u001b[0m     \u001b[0mdata_shapes\u001b[0m \u001b[0;34m=\u001b[0m \u001b[0;34m[\u001b[0m\u001b[0mx\u001b[0m \u001b[0;32mif\u001b[0m \u001b[0misinstance\u001b[0m\u001b[0;34m(\u001b[0m\u001b[0mx\u001b[0m\u001b[0;34m,\u001b[0m \u001b[0mDataDesc\u001b[0m\u001b[0;34m)\u001b[0m \u001b[0;32melse\u001b[0m \u001b[0mDataDesc\u001b[0m\u001b[0;34m(\u001b[0m\u001b[0;34m*\u001b[0m\u001b[0mx\u001b[0m\u001b[0;34m)\u001b[0m \u001b[0;32mfor\u001b[0m \u001b[0mx\u001b[0m \u001b[0;32min\u001b[0m \u001b[0mdata_shapes\u001b[0m\u001b[0;34m]\u001b[0m\u001b[0;34m\u001b[0m\u001b[0m\n\u001b[0;32m---> 71\u001b[0;31m     \u001b[0m_check_names_match\u001b[0m\u001b[0;34m(\u001b[0m\u001b[0mdata_names\u001b[0m\u001b[0;34m,\u001b[0m \u001b[0mdata_shapes\u001b[0m\u001b[0;34m,\u001b[0m \u001b[0;34m'data'\u001b[0m\u001b[0;34m,\u001b[0m \u001b[0;32mTrue\u001b[0m\u001b[0;34m)\u001b[0m\u001b[0;34m\u001b[0m\u001b[0m\n\u001b[0m\u001b[1;32m     72\u001b[0m     \u001b[0;32mif\u001b[0m \u001b[0mlabel_shapes\u001b[0m \u001b[0;32mis\u001b[0m \u001b[0;32mnot\u001b[0m \u001b[0;32mNone\u001b[0m\u001b[0;34m:\u001b[0m\u001b[0;34m\u001b[0m\u001b[0m\n\u001b[1;32m     73\u001b[0m         \u001b[0mlabel_shapes\u001b[0m \u001b[0;34m=\u001b[0m \u001b[0;34m[\u001b[0m\u001b[0mx\u001b[0m \u001b[0;32mif\u001b[0m \u001b[0misinstance\u001b[0m\u001b[0;34m(\u001b[0m\u001b[0mx\u001b[0m\u001b[0;34m,\u001b[0m \u001b[0mDataDesc\u001b[0m\u001b[0;34m)\u001b[0m \u001b[0;32melse\u001b[0m \u001b[0mDataDesc\u001b[0m\u001b[0;34m(\u001b[0m\u001b[0;34m*\u001b[0m\u001b[0mx\u001b[0m\u001b[0;34m)\u001b[0m \u001b[0;32mfor\u001b[0m \u001b[0mx\u001b[0m \u001b[0;32min\u001b[0m \u001b[0mlabel_shapes\u001b[0m\u001b[0;34m]\u001b[0m\u001b[0;34m\u001b[0m\u001b[0m\n",
      "\u001b[0;32m~/VirtualEnv/mxnet_master/local/lib/python3.5/site-packages/mxnet/module/base_module.py\u001b[0m in \u001b[0;36m_check_names_match\u001b[0;34m(data_names, data_shapes, name, throw)\u001b[0m\n\u001b[1;32m     61\u001b[0m             name, name, str(data_shapes), str(data_names))\n\u001b[1;32m     62\u001b[0m         \u001b[0;32mif\u001b[0m \u001b[0mthrow\u001b[0m\u001b[0;34m:\u001b[0m\u001b[0;34m\u001b[0m\u001b[0m\n\u001b[0;32m---> 63\u001b[0;31m             \u001b[0;32mraise\u001b[0m \u001b[0mValueError\u001b[0m\u001b[0;34m(\u001b[0m\u001b[0mmsg\u001b[0m\u001b[0;34m)\u001b[0m\u001b[0;34m\u001b[0m\u001b[0m\n\u001b[0m\u001b[1;32m     64\u001b[0m         \u001b[0;32melse\u001b[0m\u001b[0;34m:\u001b[0m\u001b[0;34m\u001b[0m\u001b[0m\n\u001b[1;32m     65\u001b[0m             \u001b[0mwarnings\u001b[0m\u001b[0;34m.\u001b[0m\u001b[0mwarn\u001b[0m\u001b[0;34m(\u001b[0m\u001b[0mmsg\u001b[0m\u001b[0;34m)\u001b[0m\u001b[0;34m\u001b[0m\u001b[0m\n",
      "\u001b[0;31mValueError\u001b[0m: Data provided by data_shapes don't match names specified by data_names ([] vs. ['data'])"
     ]
    }
   ],
   "source": [
    "import logging\n",
    "logging.basicConfig(level=logging.INFO)\n",
    "\n",
    "n = 32\n",
    "data_iter = SimpleIter(['data'], [(n, 100)],\n",
    "                  [lambda s: np.random.uniform(-1, 1, s)],\n",
    "                  ['softmax_label'], [(n,)],\n",
    "                  [lambda s: np.random.randint(0, num_classes, s)])\n",
    "\n",
    "mod = mx.mod.Module(symbol=net)\n",
    "mod.fit(data_iter, num_epoch=5)"
   ]
  },
  {
   "cell_type": "markdown",
   "metadata": {},
   "source": [
    "## Record IO\n",
    "Record IO is a file format used by MXNet for data IO.\n",
    "It compactly packs the data for efficient read and writes from distributed file system like Hadoop HDFS and AWS S3.\n",
    "You can learn more about the design of `RecordIO` [here](http://mxnet.io/architecture/note_data_loading.html).\n",
    "\n",
    "MXNet provides [__`MXRecordIO`__](http://mxnet.io/api/python/io.html#mxnet.recordio.MXRecordIO)\n",
    "and [__`MXIndexedRecordIO`__](http://mxnet.io/api/python/io.html#mxnet.recordio.MXIndexedRecordIO)\n",
    "for sequential access of data and random access of the data.\n",
    "\n",
    "### MXRecordIO\n",
    "First, let's look at an example on how to read and write sequentially\n",
    "using `MXRecordIO`. The files are named with a `.rec` extension."
   ]
  },
  {
   "cell_type": "code",
   "execution_count": 7,
   "metadata": {},
   "outputs": [
    {
     "ename": "TypeError",
     "evalue": "bytes or integer address expected instead of str instance",
     "output_type": "error",
     "traceback": [
      "\u001b[0;31m---------------------------------------------------------------------------\u001b[0m",
      "\u001b[0;31mTypeError\u001b[0m                                 Traceback (most recent call last)",
      "\u001b[0;32m<ipython-input-7-9a9ea828130e>\u001b[0m in \u001b[0;36m<module>\u001b[0;34m()\u001b[0m\n\u001b[1;32m      1\u001b[0m \u001b[0mrecord\u001b[0m \u001b[0;34m=\u001b[0m \u001b[0mmx\u001b[0m\u001b[0;34m.\u001b[0m\u001b[0mrecordio\u001b[0m\u001b[0;34m.\u001b[0m\u001b[0mMXRecordIO\u001b[0m\u001b[0;34m(\u001b[0m\u001b[0;34m'tmp.rec'\u001b[0m\u001b[0;34m,\u001b[0m \u001b[0;34m'w'\u001b[0m\u001b[0;34m)\u001b[0m\u001b[0;34m\u001b[0m\u001b[0m\n\u001b[1;32m      2\u001b[0m \u001b[0;32mfor\u001b[0m \u001b[0mi\u001b[0m \u001b[0;32min\u001b[0m \u001b[0mrange\u001b[0m\u001b[0;34m(\u001b[0m\u001b[0;36m5\u001b[0m\u001b[0;34m)\u001b[0m\u001b[0;34m:\u001b[0m\u001b[0;34m\u001b[0m\u001b[0m\n\u001b[0;32m----> 3\u001b[0;31m     \u001b[0mrecord\u001b[0m\u001b[0;34m.\u001b[0m\u001b[0mwrite\u001b[0m\u001b[0;34m(\u001b[0m\u001b[0;34m'record_%d'\u001b[0m\u001b[0;34m%\u001b[0m\u001b[0mi\u001b[0m\u001b[0;34m)\u001b[0m\u001b[0;34m\u001b[0m\u001b[0m\n\u001b[0m\u001b[1;32m      4\u001b[0m \u001b[0mrecord\u001b[0m\u001b[0;34m.\u001b[0m\u001b[0mclose\u001b[0m\u001b[0;34m(\u001b[0m\u001b[0;34m)\u001b[0m\u001b[0;34m\u001b[0m\u001b[0m\n",
      "\u001b[0;32m~/VirtualEnv/mxnet_master/local/lib/python3.5/site-packages/mxnet/recordio.py\u001b[0m in \u001b[0;36mwrite\u001b[0;34m(self, buf)\u001b[0m\n\u001b[1;32m    132\u001b[0m         \u001b[0;32massert\u001b[0m \u001b[0mself\u001b[0m\u001b[0;34m.\u001b[0m\u001b[0mwritable\u001b[0m\u001b[0;34m\u001b[0m\u001b[0m\n\u001b[1;32m    133\u001b[0m         check_call(_LIB.MXRecordIOWriterWriteRecord(self.handle,\n\u001b[0;32m--> 134\u001b[0;31m                                                     \u001b[0mctypes\u001b[0m\u001b[0;34m.\u001b[0m\u001b[0mc_char_p\u001b[0m\u001b[0;34m(\u001b[0m\u001b[0mbuf\u001b[0m\u001b[0;34m)\u001b[0m\u001b[0;34m,\u001b[0m\u001b[0;34m\u001b[0m\u001b[0m\n\u001b[0m\u001b[1;32m    135\u001b[0m                                                     ctypes.c_size_t(len(buf))))\n\u001b[1;32m    136\u001b[0m \u001b[0;34m\u001b[0m\u001b[0m\n",
      "\u001b[0;31mTypeError\u001b[0m: bytes or integer address expected instead of str instance"
     ]
    }
   ],
   "source": [
    "record = mx.recordio.MXRecordIO('tmp.rec', 'w')\n",
    "for i in range(5):\n",
    "    record.write('record_%d'%i)\n",
    "record.close()"
   ]
  },
  {
   "cell_type": "markdown",
   "metadata": {},
   "source": [
    "We can read the data back by opening the file with an option `r` as below:"
   ]
  },
  {
   "cell_type": "code",
   "execution_count": 8,
   "metadata": {},
   "outputs": [],
   "source": [
    "record = mx.recordio.MXRecordIO('tmp.rec', 'r')\n",
    "while True:\n",
    "    item = record.read()\n",
    "    if not item:\n",
    "        break\n",
    "    print (item)\n",
    "record.close()"
   ]
  },
  {
   "cell_type": "markdown",
   "metadata": {},
   "source": [
    "### MXIndexedRecordIO\n",
    "`MXIndexedRecordIO` supports random or indexed access to the data.\n",
    "We will create an indexed record file and a corresponding index file as below:"
   ]
  },
  {
   "cell_type": "code",
   "execution_count": 9,
   "metadata": {},
   "outputs": [
    {
     "ename": "TypeError",
     "evalue": "bytes or integer address expected instead of str instance",
     "output_type": "error",
     "traceback": [
      "\u001b[0;31m---------------------------------------------------------------------------\u001b[0m",
      "\u001b[0;31mTypeError\u001b[0m                                 Traceback (most recent call last)",
      "\u001b[0;32m<ipython-input-9-2ce671969498>\u001b[0m in \u001b[0;36m<module>\u001b[0;34m()\u001b[0m\n\u001b[1;32m      1\u001b[0m \u001b[0mrecord\u001b[0m \u001b[0;34m=\u001b[0m \u001b[0mmx\u001b[0m\u001b[0;34m.\u001b[0m\u001b[0mrecordio\u001b[0m\u001b[0;34m.\u001b[0m\u001b[0mMXIndexedRecordIO\u001b[0m\u001b[0;34m(\u001b[0m\u001b[0;34m'tmp.idx'\u001b[0m\u001b[0;34m,\u001b[0m \u001b[0;34m'tmp.rec'\u001b[0m\u001b[0;34m,\u001b[0m \u001b[0;34m'w'\u001b[0m\u001b[0;34m)\u001b[0m\u001b[0;34m\u001b[0m\u001b[0m\n\u001b[1;32m      2\u001b[0m \u001b[0;32mfor\u001b[0m \u001b[0mi\u001b[0m \u001b[0;32min\u001b[0m \u001b[0mrange\u001b[0m\u001b[0;34m(\u001b[0m\u001b[0;36m5\u001b[0m\u001b[0;34m)\u001b[0m\u001b[0;34m:\u001b[0m\u001b[0;34m\u001b[0m\u001b[0m\n\u001b[0;32m----> 3\u001b[0;31m     \u001b[0mrecord\u001b[0m\u001b[0;34m.\u001b[0m\u001b[0mwrite_idx\u001b[0m\u001b[0;34m(\u001b[0m\u001b[0mi\u001b[0m\u001b[0;34m,\u001b[0m \u001b[0;34m'record_%d'\u001b[0m\u001b[0;34m%\u001b[0m\u001b[0mi\u001b[0m\u001b[0;34m)\u001b[0m\u001b[0;34m\u001b[0m\u001b[0m\n\u001b[0m\u001b[1;32m      4\u001b[0m \u001b[0mrecord\u001b[0m\u001b[0;34m.\u001b[0m\u001b[0mclose\u001b[0m\u001b[0;34m(\u001b[0m\u001b[0;34m)\u001b[0m\u001b[0;34m\u001b[0m\u001b[0m\n",
      "\u001b[0;32m~/VirtualEnv/mxnet_master/local/lib/python3.5/site-packages/mxnet/recordio.py\u001b[0m in \u001b[0;36mwrite_idx\u001b[0;34m(self, idx, buf)\u001b[0m\n\u001b[1;32m    283\u001b[0m         \u001b[0mkey\u001b[0m \u001b[0;34m=\u001b[0m \u001b[0mself\u001b[0m\u001b[0;34m.\u001b[0m\u001b[0mkey_type\u001b[0m\u001b[0;34m(\u001b[0m\u001b[0midx\u001b[0m\u001b[0;34m)\u001b[0m\u001b[0;34m\u001b[0m\u001b[0m\n\u001b[1;32m    284\u001b[0m         \u001b[0mpos\u001b[0m \u001b[0;34m=\u001b[0m \u001b[0mself\u001b[0m\u001b[0;34m.\u001b[0m\u001b[0mtell\u001b[0m\u001b[0;34m(\u001b[0m\u001b[0;34m)\u001b[0m\u001b[0;34m\u001b[0m\u001b[0m\n\u001b[0;32m--> 285\u001b[0;31m         \u001b[0mself\u001b[0m\u001b[0;34m.\u001b[0m\u001b[0mwrite\u001b[0m\u001b[0;34m(\u001b[0m\u001b[0mbuf\u001b[0m\u001b[0;34m)\u001b[0m\u001b[0;34m\u001b[0m\u001b[0m\n\u001b[0m\u001b[1;32m    286\u001b[0m         \u001b[0mself\u001b[0m\u001b[0;34m.\u001b[0m\u001b[0mfidx\u001b[0m\u001b[0;34m.\u001b[0m\u001b[0mwrite\u001b[0m\u001b[0;34m(\u001b[0m\u001b[0;34m'%s\\t%d\\n'\u001b[0m\u001b[0;34m%\u001b[0m\u001b[0;34m(\u001b[0m\u001b[0mstr\u001b[0m\u001b[0;34m(\u001b[0m\u001b[0mkey\u001b[0m\u001b[0;34m)\u001b[0m\u001b[0;34m,\u001b[0m \u001b[0mpos\u001b[0m\u001b[0;34m)\u001b[0m\u001b[0;34m)\u001b[0m\u001b[0;34m\u001b[0m\u001b[0m\n\u001b[1;32m    287\u001b[0m         \u001b[0mself\u001b[0m\u001b[0;34m.\u001b[0m\u001b[0midx\u001b[0m\u001b[0;34m[\u001b[0m\u001b[0mkey\u001b[0m\u001b[0;34m]\u001b[0m \u001b[0;34m=\u001b[0m \u001b[0mpos\u001b[0m\u001b[0;34m\u001b[0m\u001b[0m\n",
      "\u001b[0;32m~/VirtualEnv/mxnet_master/local/lib/python3.5/site-packages/mxnet/recordio.py\u001b[0m in \u001b[0;36mwrite\u001b[0;34m(self, buf)\u001b[0m\n\u001b[1;32m    132\u001b[0m         \u001b[0;32massert\u001b[0m \u001b[0mself\u001b[0m\u001b[0;34m.\u001b[0m\u001b[0mwritable\u001b[0m\u001b[0;34m\u001b[0m\u001b[0m\n\u001b[1;32m    133\u001b[0m         check_call(_LIB.MXRecordIOWriterWriteRecord(self.handle,\n\u001b[0;32m--> 134\u001b[0;31m                                                     \u001b[0mctypes\u001b[0m\u001b[0;34m.\u001b[0m\u001b[0mc_char_p\u001b[0m\u001b[0;34m(\u001b[0m\u001b[0mbuf\u001b[0m\u001b[0;34m)\u001b[0m\u001b[0;34m,\u001b[0m\u001b[0;34m\u001b[0m\u001b[0m\n\u001b[0m\u001b[1;32m    135\u001b[0m                                                     ctypes.c_size_t(len(buf))))\n\u001b[1;32m    136\u001b[0m \u001b[0;34m\u001b[0m\u001b[0m\n",
      "\u001b[0;31mTypeError\u001b[0m: bytes or integer address expected instead of str instance"
     ]
    }
   ],
   "source": [
    "record = mx.recordio.MXIndexedRecordIO('tmp.idx', 'tmp.rec', 'w')\n",
    "for i in range(5):\n",
    "    record.write_idx(i, 'record_%d'%i)\n",
    "record.close()"
   ]
  },
  {
   "cell_type": "markdown",
   "metadata": {},
   "source": [
    "Now, we can access the individual records using the keys"
   ]
  },
  {
   "cell_type": "code",
   "execution_count": null,
   "metadata": {},
   "outputs": [],
   "source": [
    "record = mx.recordio.MXIndexedRecordIO('tmp.idx', 'tmp.rec', 'r')\n",
    "record.read_idx(3)"
   ]
  },
  {
   "cell_type": "markdown",
   "metadata": {},
   "source": [
    "You can also list all the keys in the file."
   ]
  },
  {
   "cell_type": "code",
   "execution_count": null,
   "metadata": {},
   "outputs": [],
   "source": [
    "record.keys"
   ]
  },
  {
   "cell_type": "markdown",
   "metadata": {},
   "source": [
    "### Packing and Unpacking data\n",
    "\n",
    "Each record in a .rec file can contain arbitrary binary data. However, most deep learning tasks require data to be input in label/data format.\n",
    "The `mx.recordio` package provides a few utility functions for such operations, namely: `pack`, `unpack`, `pack_img`, and `unpack_img`.\n",
    "\n",
    "#### Packing/Unpacking Binary Data\n",
    "\n",
    "[__`pack`__](http://mxnet.io/api/python/io.html#mxnet.recordio.pack) and [__`unpack`__](http://mxnet.io/api/python/io.html#mxnet.recordio.unpack) are used for storing float (or 1d array of float) label and binary data. The data is packed along with a header. The header structure is defined [here](http://mxnet.io/api/python/io.html#mxnet.recordio.IRHeader)."
   ]
  },
  {
   "cell_type": "code",
   "execution_count": null,
   "metadata": {},
   "outputs": [],
   "source": [
    "# pack\n",
    "data = 'data'\n",
    "label1 = 1.0\n",
    "header1 = mx.recordio.IRHeader(flag=0, label=label1, id=1, id2=0)\n",
    "s1 = mx.recordio.pack(header1, data)\n",
    "\n",
    "label2 = [1.0, 2.0, 3.0]\n",
    "header2 = mx.recordio.IRHeader(flag=3, label=label2, id=2, id2=0)\n",
    "s2 = mx.recordio.pack(header2, data)"
   ]
  },
  {
   "cell_type": "code",
   "execution_count": null,
   "metadata": {},
   "outputs": [],
   "source": [
    "# unpack\n",
    "print(mx.recordio.unpack(s1))\n",
    "print(mx.recordio.unpack(s2))"
   ]
  },
  {
   "cell_type": "markdown",
   "metadata": {},
   "source": [
    "#### Packing/Unpacking Image Data\n",
    "\n",
    "MXNet provides [__`pack_img`__](http://mxnet.io/api/python/io.html#mxnet.recordio.pack_img) and [__`unpack_img`__](http://mxnet.io/api/python/io.html#mxnet.recordio.unpack_img) to pack/unpack image data.\n",
    "Records packed by `pack_img` can be loaded by `mx.io.ImageRecordIter`."
   ]
  },
  {
   "cell_type": "code",
   "execution_count": null,
   "metadata": {},
   "outputs": [],
   "source": [
    "data = np.ones((3,3,1), dtype=np.uint8)\n",
    "label = 1.0\n",
    "header = mx.recordio.IRHeader(flag=0, label=label, id=0, id2=0)\n",
    "s = mx.recordio.pack_img(header, data, quality=100, img_fmt='.jpg')"
   ]
  },
  {
   "cell_type": "code",
   "execution_count": null,
   "metadata": {},
   "outputs": [],
   "source": [
    "# unpack_img\n",
    "print(mx.recordio.unpack_img(s))"
   ]
  },
  {
   "cell_type": "markdown",
   "metadata": {},
   "source": [
    "#### Using tools/im2rec.py\n",
    "You can also convert raw images into *RecordIO* format using the ``im2rec.py`` utility script that is provided in the MXNet [src/tools](https://github.com/dmlc/mxnet/tree/master/tools) folder.\n",
    "An example of how to use the script for converting to *RecordIO* format is shown in the `Image IO` section below.\n",
    "\n",
    "## Image IO\n",
    "\n",
    "In this section, we will learn how to preprocess and load image data in MXNet.\n",
    "\n",
    "There are 4 ways of loading image data in MXNet.\n",
    "   1. Using [__mx.image.imdecode__](http://mxnet.io/api/python/io.html#mxnet.image.imdecode) to load raw image files.\n",
    "   2. Using [__`mx.img.ImageIter`__](http://mxnet.io/api/python/io.html#mxnet.image.ImageIter) implemented in Python which is very flexible to customization. It can read from .rec(`RecordIO`) files and raw image files.\n",
    "   3. Using [__`mx.io.ImageRecordIter`__](http://mxnet.io/api/python/io.html#mxnet.io.ImageRecordIter) implemented on the MXNet backend in C++. This is less flexible to customization but provides various language bindings.\n",
    "   4. Creating a Custom iterator inheriting `mx.io.DataIter`\n",
    "\n",
    "\n",
    "### Preprocessing Images\n",
    "Images can be preprocessed in different ways. We list some of them below:\n",
    "- Using `mx.io.ImageRecordIter` which is fast but not very flexible. It is great for simple tasks like image recognition but won't work for more complex tasks like detection and segmentation.\n",
    "- Using `mx.recordio.unpack_img` (or `cv2.imread`, `skimage`, etc) + `numpy` is flexible but slow due to Python Global Interpreter Lock (GIL).\n",
    "- Using MXNet provided `mx.image` package. It stores images in [__`NDArray`__](http://mxnet.io/tutorials/basic/ndarray.html) format and leverages MXNet's [dependency engine](http://mxnet.io/architecture/note_engine.html) to automatically parallelize processing and circumvent GIL.\n",
    "\n",
    "Below, we demonstrate some of the frequently used preprocessing routines provided by the `mx.image` package.\n",
    "\n",
    "Let's download sample images that we can work with."
   ]
  },
  {
   "cell_type": "code",
   "execution_count": null,
   "metadata": {},
   "outputs": [],
   "source": [
    "fname = mx.test_utils.download(url='http://data.mxnet.io/data/test_images.tar.gz', dirname='data', overwrite=False)\n",
    "tar = tarfile.open(fname)\n",
    "tar.extractall(path='./data')\n",
    "tar.close()"
   ]
  },
  {
   "cell_type": "markdown",
   "metadata": {},
   "source": [
    "#### Loading raw images\n",
    "`mx.image.imdecode` lets us load the images. `imdecode` provides a similar interface to ``OpenCV``.  \n",
    "\n",
    "**Note:** You will still need ``OpenCV``(not the CV2 Python library) installed to use `mx.image.imdecode`."
   ]
  },
  {
   "cell_type": "code",
   "execution_count": null,
   "metadata": {},
   "outputs": [],
   "source": [
    "img = mx.image.imdecode(open('data/test_images/ILSVRC2012_val_00000001.JPEG', 'rb').read())\n",
    "plt.imshow(img.asnumpy()); plt.show()"
   ]
  },
  {
   "cell_type": "markdown",
   "metadata": {},
   "source": [
    "#### Image Transformations"
   ]
  },
  {
   "cell_type": "code",
   "execution_count": null,
   "metadata": {},
   "outputs": [],
   "source": [
    "# resize to w x h\n",
    "tmp = mx.image.imresize(img, 100, 70)\n",
    "plt.imshow(tmp.asnumpy()); plt.show()"
   ]
  },
  {
   "cell_type": "code",
   "execution_count": null,
   "metadata": {},
   "outputs": [],
   "source": [
    "# crop a random w x h region from image\n",
    "tmp, coord = mx.image.random_crop(img, (150, 200))\n",
    "print(coord)\n",
    "plt.imshow(tmp.asnumpy()); plt.show()"
   ]
  },
  {
   "cell_type": "markdown",
   "metadata": {},
   "source": [
    "### Loading Data using Image Iterators\n",
    "\n",
    "Before we see how to read data using the two built-in Image iterators,\n",
    " lets get a sample __Caltech 101__ dataset\n",
    " that contains 101 classes of objects and converts them into record io format.\n",
    "Download and unzip"
   ]
  },
  {
   "cell_type": "code",
   "execution_count": null,
   "metadata": {},
   "outputs": [],
   "source": [
    "fname = mx.test_utils.download(url='http://www.vision.caltech.edu/Image_Datasets/Caltech101/101_ObjectCategories.tar.gz', dirname='data', overwrite=False)\n",
    "tar = tarfile.open(fname)\n",
    "tar.extractall(path='./data')\n",
    "tar.close()"
   ]
  },
  {
   "cell_type": "markdown",
   "metadata": {},
   "source": [
    "Let's take a look at the data. As you can see, under the root folder (./data/101_ObjectCategories) every category has a subfolder(./data/101_ObjectCategories/yin_yang).\n",
    "\n",
    "Now let's convert them into record io format using the `im2rec.py` utility script.\n",
    "First, we need to make a list that contains all the image files and their categories:"
   ]
  },
  {
   "cell_type": "code",
   "execution_count": null,
   "metadata": {},
   "outputs": [],
   "source": [
    "os.system('python %s/tools/im2rec.py --list=1 --recursive=1 --shuffle=1 --test-ratio=0.2 data/caltech data/101_ObjectCategories'%os.environ['MXNET_HOME'])"
   ]
  },
  {
   "cell_type": "markdown",
   "metadata": {},
   "source": [
    "The resulting list file (./data/caltech_train.lst) is in the format `index\\t(one or more label)\\tpath`. In this case, there is only one label for each image but you can modify the list to add in more for multi-label training.\n",
    "\n",
    "Then we can use this list to create our record io file:"
   ]
  },
  {
   "cell_type": "code",
   "execution_count": null,
   "metadata": {},
   "outputs": [],
   "source": [
    "os.system(\"python %s/tools/im2rec.py --num-thread=4 --pass-through=1 data/caltech data/101_ObjectCategories\"%os.environ['MXNET_HOME'])"
   ]
  },
  {
   "cell_type": "markdown",
   "metadata": {},
   "source": [
    "The record io files are now saved at here (./data)\n",
    "\n",
    "#### Using ImageRecordIter\n",
    "[__`ImageRecordIter`__](http://mxnet.io/api/python/io.html#mxnet.io.ImageRecordIter) can be used for loading image data saved in record io format. To use ImageRecordIter, simply create an instance by loading your record file:"
   ]
  },
  {
   "cell_type": "code",
   "execution_count": null,
   "metadata": {},
   "outputs": [],
   "source": [
    "data_iter = mx.io.ImageRecordIter(\n",
    "    path_imgrec=\"./data/caltech.rec\", # the target record file\n",
    "    data_shape=(3, 227, 227), # output data shape. An 227x227 region will be cropped from the original image.\n",
    "    batch_size=4, # number of samples per batch\n",
    "    resize=256 # resize the shorter edge to 256 before cropping\n",
    "    # ... you can add more augumentation options as defined in ImageRecordIter.\n",
    "    )\n",
    "data_iter.reset()\n",
    "batch = data_iter.next()\n",
    "data = batch.data[0]\n",
    "for i in range(4):\n",
    "    plt.subplot(1,4,i+1)\n",
    "    plt.imshow(data[i].asnumpy().astype(np.uint8).transpose((1,2,0)))\n",
    "plt.show()"
   ]
  },
  {
   "cell_type": "markdown",
   "metadata": {},
   "source": [
    "#### Using ImageIter\n",
    "[__ImageIter__](http://mxnet.io/api/python/io.html#mxnet.io.ImageIter) is a flexible interface that supports loading of images in both RecordIO and Raw format."
   ]
  },
  {
   "cell_type": "code",
   "execution_count": null,
   "metadata": {},
   "outputs": [],
   "source": [
    "data_iter = mx.image.ImageIter(batch_size=4, data_shape=(3, 227, 227),\n",
    "                              path_imgrec=\"./data/caltech.rec\",\n",
    "                              path_imgidx=\"./data/caltech.idx\" )\n",
    "data_iter.reset()\n",
    "batch = data_iter.next()\n",
    "data = batch.data[0]\n",
    "for i in range(4):\n",
    "    plt.subplot(1,4,i+1)\n",
    "    plt.imshow(data[i].asnumpy().astype(np.uint8).transpose((1,2,0)))\n",
    "plt.show()"
   ]
  },
  {
   "cell_type": "markdown",
   "metadata": {},
   "source": [
    "\n",
    "<!-- INSERT SOURCE DOWNLOAD BUTTONS -->\n",
    "\n"
   ]
  }
 ],
 "metadata": {
  "display_name": "",
  "kernelspec": {
   "display_name": "Python 3",
   "language": "python",
   "name": "python3"
  },
  "language_info": {
   "codemirror_mode": {
    "name": "ipython",
    "version": 3
   },
   "file_extension": ".py",
   "mimetype": "text/x-python",
   "name": "python",
   "nbconvert_exporter": "python",
   "pygments_lexer": "ipython3",
   "version": "3.5.2"
  },
  "name": "",
  "toc": {
   "nav_menu": {},
   "number_sections": true,
   "sideBar": true,
   "skip_h1_title": false,
   "toc_cell": false,
   "toc_position": {},
   "toc_section_display": "block",
   "toc_window_display": false
  }
 },
 "nbformat": 4,
 "nbformat_minor": 2
}
